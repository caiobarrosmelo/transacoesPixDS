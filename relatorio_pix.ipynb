{
 "cells": [
  {
   "cell_type": "markdown",
   "id": "b0a07642",
   "metadata": {},
   "source": [
    "## Estatísticas de Transações Pix\n",
    "\n",
    "Estudo sobre as estatísticas de transações Pix da API do Banco Central (BCB) acerca do volume financeiro e da quantidade de transações Pix liquidadas mensalmente, incluindo informações sobre o Sistema de Pagamentos Instantâneos (SPI) e transações fora do SPI.\n",
    "\n",
    "Instrumento de periodicidade **mensal**, com atualização disponibilizada pelo Banco Central do Brasil.\n",
    "\n",
    "Inclui:\n",
    "\n",
    "- Quantidade e valor financeiro de transações Pix liquidadas no SPI.\n",
    "- Recortes por tipo de pessoa (PF/PJ), região, idade, forma de iniciação, natureza e finalidade da transação.\n",
    "\n",
    "### Parâmetros da API\n",
    "\n",
    "| Nome       | Tipo    | Título     | Descrição |\n",
    "|------------|---------|------------|-----------|\n",
    "| Database   | texto   | Data-base  | Data-base de referência no formato AAAAMM |\n",
    "| $format    | texto   | $format    | Tipo de conteúdo que será retornado |\n",
    "| $select    | texto   | $select    | Propriedades que serão retornadas |\n",
    "| $filter    | texto   | $filter    | Filtro de seleção de entidades. e.g. Nome eq 'João'. [Clique aqui](https://olinda.bcb.gov.br/olinda/servico/ajuda) para ver as opções de operadores e funções. |\n",
    "| $orderby   | texto   | $orderby   | Propriedades para ordenação das entidades. e.g. Nome asc, Idade desc |\n",
    "| $skip      | inteiro | $skip      | Índice (maior ou igual a zero) da primeira entidade que será retornada |\n",
    "| $top       | inteiro | $top       | Número máximo (maior que zero) de entidades que serão retornadas |\n",
    "\n",
    "---\n",
    "\n",
    "### Dicionário de Dados\n",
    "\n",
    "| Nome         | Tipo    | Título                             | Descrição |\n",
    "|--------------|---------|------------------------------------|-----------|\n",
    "| AnoMes       | inteiro | Data-base - ano/mês                | Data-base de referência no formato AAAAMM |\n",
    "| PAG_PFPJ     | texto   | Tipo de Pessoa do Pagador          | PF = Pessoa Física, PJ = Pessoa Jurídica |\n",
    "| REC_PFPJ     | texto   | Tipo de Pessoa do Recebedor        | PF = Pessoa Física, PJ = Pessoa Jurídica |\n",
    "| PAG_REGIAO   | texto   | Região do Pagador                  | Região do domicílio do pagador |\n",
    "| REC_REGIAO   | texto   | Região do Recebedor                | Região do domicílio do recebedor |\n",
    "| PAG_IDADE    | texto   | Idade do Pagador                   | Faixa etária do usuário pagador |\n",
    "| REC_IDADE    | texto   | Idade do Recebedor                 | Faixa etária do usuário recebedor |\n",
    "| FORMAINICIACAO | texto | Forma de Iniciação da Transação    | INIC = Iniciador com dados do recebedor, QRES = QR Code Estático, QRDN = QR Code Dinâmico, MANU = Inserção manual, DICT = Chave Pix |\n",
    "| NATUREZA     | texto   | Natureza da Transação              | P2P = Pessoa para Pessoa, B2B = Empresa para Empresa, P2B = Pessoa para Empresa, B2P = Empresa para Pessoa, P2G = Pessoa para Governo, B2G = Empresa para Governo |\n",
    "| FINALIDADE   | texto   | Finalidade da Transação            | Transferência, saque ou troco |\n",
    "| VALOR        | decimal | Valor das Transações Pix           | Volume financeiro (R$ milhões) de transações Pix liquidadas mensalmente |\n",
    "| QUANTIDADE   | decimal | Quantidade Total de Transações Pix | Quantidade (milhares) de transações Pix liquidadas mensalmente |\n",
    "\n",
    "---\n",
    "\n",
    "**Fontes:** \n",
    "- [BCB - Transação Pix](https://dadosabertos.bcb.gov.br/dataset/pix/resource/9eb0f16d-4a38-4936-be2a-6c0dd18f87f7?inner_span=True)\n",
    "- [BCB - Estatísticas Pix](https://dadosabertos.bcb.gov.br/dataset/pix)\n"
   ]
  },
  {
   "cell_type": "code",
   "execution_count": 1,
   "id": "d15b0d33",
   "metadata": {},
   "outputs": [],
   "source": [
    "import pandas as pd\n",
    "import sqlite3\n",
    "\n",
    "con = sqlite3.connect('src/datasets/dadosPix.db')\n",
    "query = \"select * from transacoes_pix\"\n",
    "df = pd.read_sql(query, con)\n",
    "con.close()"
   ]
  },
  {
   "cell_type": "markdown",
   "id": "30a32854",
   "metadata": {},
   "source": [
    "Primeiro vamos explorar a estrutura do conjunto de dados"
   ]
  },
  {
   "cell_type": "code",
   "execution_count": 2,
   "id": "0ea2e12d",
   "metadata": {},
   "outputs": [
    {
     "name": "stdout",
     "output_type": "stream",
     "text": [
      "<class 'pandas.core.frame.DataFrame'>\n",
      "RangeIndex: 100 entries, 0 to 99\n",
      "Data columns (total 12 columns):\n",
      " #   Column          Non-Null Count  Dtype  \n",
      "---  ------          --------------  -----  \n",
      " 0   AnoMes          100 non-null    object \n",
      " 1   PAG_PFPJ        100 non-null    object \n",
      " 2   REC_PFPJ        100 non-null    object \n",
      " 3   PAG_REGIAO      100 non-null    object \n",
      " 4   REC_REGIAO      100 non-null    object \n",
      " 5   PAG_IDADE       100 non-null    object \n",
      " 6   REC_IDADE       100 non-null    object \n",
      " 7   FORMAINICIACAO  100 non-null    object \n",
      " 8   NATUREZA        100 non-null    object \n",
      " 9   FINALIDADE      100 non-null    object \n",
      " 10  VALOR           100 non-null    float64\n",
      " 11  QUANTIDADE      100 non-null    int64  \n",
      "dtypes: float64(1), int64(1), object(10)\n",
      "memory usage: 9.5+ KB\n"
     ]
    }
   ],
   "source": [
    "df.info()"
   ]
  },
  {
   "cell_type": "markdown",
   "id": "8a1ccdec",
   "metadata": {},
   "source": [
    "Aparentemente não temos dados, faltantes, mas vamos comprovar:"
   ]
  },
  {
   "cell_type": "code",
   "execution_count": 3,
   "id": "57aebe94",
   "metadata": {},
   "outputs": [
    {
     "data": {
      "application/vnd.microsoft.datawrangler.viewer.v0+json": {
       "columns": [
        {
         "name": "index",
         "rawType": "object",
         "type": "string"
        },
        {
         "name": "0",
         "rawType": "int64",
         "type": "integer"
        }
       ],
       "ref": "a83a8ec8-33eb-4033-94df-d8d4bbc40e05",
       "rows": [
        [
         "AnoMes",
         "0"
        ],
        [
         "PAG_PFPJ",
         "0"
        ],
        [
         "REC_PFPJ",
         "0"
        ],
        [
         "PAG_REGIAO",
         "0"
        ],
        [
         "REC_REGIAO",
         "0"
        ],
        [
         "PAG_IDADE",
         "0"
        ],
        [
         "REC_IDADE",
         "0"
        ],
        [
         "FORMAINICIACAO",
         "0"
        ],
        [
         "NATUREZA",
         "0"
        ],
        [
         "FINALIDADE",
         "0"
        ],
        [
         "VALOR",
         "0"
        ],
        [
         "QUANTIDADE",
         "0"
        ]
       ],
       "shape": {
        "columns": 1,
        "rows": 12
       }
      },
      "text/plain": [
       "AnoMes            0\n",
       "PAG_PFPJ          0\n",
       "REC_PFPJ          0\n",
       "PAG_REGIAO        0\n",
       "REC_REGIAO        0\n",
       "PAG_IDADE         0\n",
       "REC_IDADE         0\n",
       "FORMAINICIACAO    0\n",
       "NATUREZA          0\n",
       "FINALIDADE        0\n",
       "VALOR             0\n",
       "QUANTIDADE        0\n",
       "dtype: int64"
      ]
     },
     "execution_count": 3,
     "metadata": {},
     "output_type": "execute_result"
    }
   ],
   "source": [
    "df.isnull().sum()"
   ]
  },
  {
   "cell_type": "markdown",
   "id": "29c2a99c",
   "metadata": {},
   "source": [
    "Note que AnoMes está como object (string), mas seria mais interessante estar como Date. Vejamos:"
   ]
  },
  {
   "cell_type": "code",
   "execution_count": 4,
   "id": "00f7dab0",
   "metadata": {},
   "outputs": [
    {
     "data": {
      "text/plain": [
       "str"
      ]
     },
     "execution_count": 4,
     "metadata": {},
     "output_type": "execute_result"
    }
   ],
   "source": [
    "type(df['AnoMes'][0])"
   ]
  },
  {
   "cell_type": "markdown",
   "id": "82af22b8",
   "metadata": {},
   "source": [
    "Convertendo para 'date'."
   ]
  },
  {
   "cell_type": "code",
   "execution_count": 8,
   "id": "60f9c161",
   "metadata": {},
   "outputs": [],
   "source": [
    "df['AnoMes'] = pd.to_datetime(df['AnoMes'])\n",
    "df['AnoMes'] = df['AnoMes'].dt.date"
   ]
  },
  {
   "cell_type": "markdown",
   "id": "3a6d7525",
   "metadata": {},
   "source": [
    "Verificando a conversão para conter apenas a data, sem horário."
   ]
  },
  {
   "cell_type": "code",
   "execution_count": 9,
   "id": "2fd815e3",
   "metadata": {},
   "outputs": [
    {
     "data": {
      "text/plain": [
       "datetime.date"
      ]
     },
     "execution_count": 9,
     "metadata": {},
     "output_type": "execute_result"
    }
   ],
   "source": [
    "type(df['AnoMes'][0])"
   ]
  },
  {
   "cell_type": "code",
   "execution_count": 10,
   "id": "ab44ce54",
   "metadata": {},
   "outputs": [
    {
     "name": "stdout",
     "output_type": "stream",
     "text": [
      "<class 'pandas.core.frame.DataFrame'>\n",
      "RangeIndex: 100 entries, 0 to 99\n",
      "Data columns (total 12 columns):\n",
      " #   Column          Non-Null Count  Dtype  \n",
      "---  ------          --------------  -----  \n",
      " 0   AnoMes          100 non-null    object \n",
      " 1   PAG_PFPJ        100 non-null    object \n",
      " 2   REC_PFPJ        100 non-null    object \n",
      " 3   PAG_REGIAO      100 non-null    object \n",
      " 4   REC_REGIAO      100 non-null    object \n",
      " 5   PAG_IDADE       100 non-null    object \n",
      " 6   REC_IDADE       100 non-null    object \n",
      " 7   FORMAINICIACAO  100 non-null    object \n",
      " 8   NATUREZA        100 non-null    object \n",
      " 9   FINALIDADE      100 non-null    object \n",
      " 10  VALOR           100 non-null    float64\n",
      " 11  QUANTIDADE      100 non-null    int64  \n",
      "dtypes: float64(1), int64(1), object(10)\n",
      "memory usage: 9.5+ KB\n"
     ]
    }
   ],
   "source": [
    "df.info()"
   ]
  },
  {
   "cell_type": "markdown",
   "id": "9cf0d45b",
   "metadata": {},
   "source": [
    "Ajustando a coluna que está em milhões."
   ]
  },
  {
   "cell_type": "code",
   "execution_count": 12,
   "id": "210d1dc1",
   "metadata": {},
   "outputs": [],
   "source": [
    "monetary_columns = ['VALOR']\n",
    "for col in monetary_columns:\n",
    "    df[col] = df[col] * 1_000_000\n",
    "    df[col] = df[col].round(2)"
   ]
  },
  {
   "cell_type": "code",
   "execution_count": 13,
   "id": "c8e52378",
   "metadata": {},
   "outputs": [
    {
     "data": {
      "application/vnd.microsoft.datawrangler.viewer.v0+json": {
       "columns": [
        {
         "name": "index",
         "rawType": "int64",
         "type": "integer"
        },
        {
         "name": "AnoMes",
         "rawType": "object",
         "type": "unknown"
        },
        {
         "name": "PAG_PFPJ",
         "rawType": "object",
         "type": "string"
        },
        {
         "name": "REC_PFPJ",
         "rawType": "object",
         "type": "string"
        },
        {
         "name": "PAG_REGIAO",
         "rawType": "object",
         "type": "string"
        },
        {
         "name": "REC_REGIAO",
         "rawType": "object",
         "type": "string"
        },
        {
         "name": "PAG_IDADE",
         "rawType": "object",
         "type": "string"
        },
        {
         "name": "REC_IDADE",
         "rawType": "object",
         "type": "string"
        },
        {
         "name": "FORMAINICIACAO",
         "rawType": "object",
         "type": "string"
        },
        {
         "name": "NATUREZA",
         "rawType": "object",
         "type": "string"
        },
        {
         "name": "FINALIDADE",
         "rawType": "object",
         "type": "string"
        },
        {
         "name": "VALOR",
         "rawType": "float64",
         "type": "float"
        },
        {
         "name": "QUANTIDADE",
         "rawType": "int64",
         "type": "integer"
        }
       ],
       "ref": "43dfb6e0-a170-4bfb-a228-292842336807",
       "rows": [
        [
         "0",
         "2025-01-01",
         "PF",
         "PF",
         "CENTRO-OESTE",
         "SUDESTE",
         "entre 30 e 39 anos",
         "entre 50 e 59 anos",
         "QRES",
         "P2P",
         "Pix",
         "1765603500000.0",
         "30585"
        ],
        [
         "1",
         "2025-01-01",
         "PF",
         "PF",
         "Nao informado",
         "Nao informado",
         "até 19 anos",
         "entre 30 e 39 anos",
         "MANU",
         "P2P",
         "Pix",
         "32682420000.0",
         "388"
        ],
        [
         "2",
         "2025-01-01",
         "PF",
         "PF",
         "SUDESTE",
         "SUL",
         "entre 50 e 59 anos",
         "entre 40 e 49 anos",
         "MANU",
         "P2P",
         "Pix",
         "10970832960000.0",
         "25569"
        ],
        [
         "3",
         "2025-01-01",
         "PJ",
         "PF",
         "Nao informado",
         "SUDESTE",
         "Nao se aplica",
         "até 19 anos",
         "QRES",
         "B2P",
         "Pix",
         "75786770000.0",
         "991"
        ],
        [
         "4",
         "2025-01-01",
         "PF",
         "PF",
         "NORDESTE",
         "SUDESTE",
         "Nao informado",
         "entre 40 e 49 anos",
         "MANU",
         "P2P",
         "Pix",
         "491500000.0",
         "6"
        ],
        [
         "5",
         "2025-01-01",
         "PF",
         "PF",
         "SUDESTE",
         "NORTE",
         "entre 30 e 39 anos",
         "entre 50 e 59 anos",
         "Nao disponivel",
         "P2P",
         "Nao disponivel",
         "91317390000.0",
         "270"
        ],
        [
         "6",
         "2025-01-01",
         "PF",
         "PF",
         "SUL",
         "Nao informado",
         "entre 20 e 29 anos",
         "Nao informado",
         "MANU",
         "P2P",
         "Pix",
         "518000000.0",
         "8"
        ],
        [
         "7",
         "2025-01-01",
         "PF",
         "PF",
         "SUDESTE",
         "SUDESTE",
         "entre 30 e 39 anos",
         "entre 20 e 29 anos",
         "QRDN",
         "P2P",
         "Pix",
         "56186683010000.0",
         "1893270"
        ],
        [
         "8",
         "2025-01-01",
         "PF",
         "PF",
         "Nao informado",
         "SUDESTE",
         "até 19 anos",
         "entre 30 e 39 anos",
         "DICT",
         "P2P",
         "Pix",
         "122867600000.0",
         "502"
        ],
        [
         "9",
         "2025-01-01",
         "PF",
         "PF",
         "NORDESTE",
         "SUDESTE",
         "entre 30 e 39 anos",
         "entre 50 e 59 anos",
         "QRES",
         "P2P",
         "Pix",
         "6940329500000.0",
         "206905"
        ],
        [
         "10",
         "2025-01-01",
         "PF",
         "PJ",
         "SUL",
         "Nao informado",
         "entre 20 e 29 anos",
         "Nao se aplica",
         "DICT",
         "P2B",
         "Pix",
         "356162310000.0",
         "283"
        ],
        [
         "11",
         "2025-01-01",
         "PJ",
         "PJ",
         "SUDESTE",
         "SUDESTE",
         "Nao se aplica",
         "Nao se aplica",
         "DICT",
         "G2B",
         "Pix",
         "94146275520000.0",
         "16164"
        ],
        [
         "12",
         "2025-01-01",
         "PF",
         "PJ",
         "Nao informado",
         "SUL",
         "entre 20 e 29 anos",
         "Nao se aplica",
         "QRES",
         "P2G",
         "Pix",
         "711890000.0",
         "18"
        ],
        [
         "13",
         "2025-01-01",
         "PF",
         "PF",
         "SUL",
         "SUL",
         "entre 30 e 39 anos",
         "até 19 anos",
         "QRES",
         "P2P",
         "Pix",
         "4085843390000.0",
         "63886"
        ],
        [
         "14",
         "2025-01-01",
         "PF",
         "PF",
         "NORDESTE",
         "NORTE",
         "entre 40 e 49 anos",
         "mais de 60 anos",
         "QRDN",
         "P2P",
         "Pix",
         "296353340000.0",
         "9015"
        ],
        [
         "15",
         "2025-01-01",
         "PF",
         "PF",
         "NORTE",
         "NORTE",
         "entre 20 e 29 anos",
         "entre 20 e 29 anos",
         "Nao disponivel",
         "P2P",
         "Nao disponivel",
         "10984154270000.0",
         "56441"
        ],
        [
         "16",
         "2025-01-01",
         "PF",
         "PJ",
         "NORDESTE",
         "NORTE",
         "entre 50 e 59 anos",
         "Nao se aplica",
         "QRES",
         "P2G",
         "Pix",
         "2158320000.0",
         "12"
        ],
        [
         "17",
         "2025-01-01",
         "PF",
         "PJ",
         "SUDESTE",
         "NORDESTE",
         "entre 40 e 49 anos",
         "Nao se aplica",
         "MANU",
         "P2G",
         "Pix",
         "13095180000.0",
         "26"
        ],
        [
         "18",
         "2025-01-01",
         "PF",
         "PF",
         "CENTRO-OESTE",
         "SUL",
         "entre 30 e 39 anos",
         "entre 20 e 29 anos",
         "QRDN",
         "P2P",
         "Pix",
         "321627420000.0",
         "7255"
        ],
        [
         "19",
         "2025-01-01",
         "PF",
         "PJ",
         "SUL",
         "SUL",
         "entre 20 e 29 anos",
         "Nao se aplica",
         "QRES",
         "P2B",
         "Pix",
         "503929846460000.0",
         "4943783"
        ],
        [
         "20",
         "2025-01-01",
         "PF",
         "PJ",
         "NORTE",
         "SUDESTE",
         "entre 40 e 49 anos",
         "Nao se aplica",
         "QRDN",
         "P2B",
         "Pix",
         "1066167868350000.0",
         "19165982"
        ],
        [
         "21",
         "2025-01-01",
         "PJ",
         "PF",
         "SUDESTE",
         "NORTE",
         "Nao se aplica",
         "entre 50 e 59 anos",
         "QRES",
         "B2P",
         "Pix",
         "503729990000.0",
         "2845"
        ],
        [
         "22",
         "2025-01-01",
         "PF",
         "PF",
         "Nao informado",
         "CENTRO-OESTE",
         "entre 30 e 39 anos",
         "até 19 anos",
         "Nao disponivel",
         "P2P",
         "Nao disponivel",
         "1415000000.0",
         "6"
        ],
        [
         "23",
         "2025-01-01",
         "PF",
         "PJ",
         "NORTE",
         "SUDESTE",
         "entre 40 e 49 anos",
         "Nao se aplica",
         "QRES",
         "P2B",
         "Pix",
         "142836140620000.0",
         "789871"
        ],
        [
         "24",
         "2025-01-01",
         "PF",
         "PF",
         "SUDESTE",
         "NORTE",
         "mais de 60 anos",
         "entre 20 e 29 anos",
         "MANU",
         "P2P",
         "Pix",
         "1447156300000.0",
         "8019"
        ],
        [
         "25",
         "2025-01-01",
         "PF",
         "PF",
         "SUDESTE",
         "CENTRO-OESTE",
         "entre 30 e 39 anos",
         "mais de 60 anos",
         "QRES",
         "P2P",
         "Pix",
         "612551090000.0",
         "14375"
        ],
        [
         "26",
         "2025-01-01",
         "PF",
         "PF",
         "SUDESTE",
         "SUL",
         "entre 50 e 59 anos",
         "até 19 anos",
         "Nao disponivel",
         "P2P",
         "Nao disponivel",
         "12805710000.0",
         "349"
        ],
        [
         "27",
         "2025-01-01",
         "PF",
         "PF",
         "SUL",
         "NORTE",
         "até 19 anos",
         "até 19 anos",
         "QRDN",
         "P2P",
         "Pix",
         "13579290000.0",
         "613"
        ],
        [
         "28",
         "2025-01-01",
         "PF",
         "PF",
         "CENTRO-OESTE",
         "SUL",
         "entre 50 e 59 anos",
         "entre 20 e 29 anos",
         "QRDN",
         "P2P",
         "Pix",
         "80217130000.0",
         "1678"
        ],
        [
         "29",
         "2025-01-01",
         "PJ",
         "PF",
         "NORTE",
         "NORTE",
         "Nao se aplica",
         "Nao informado",
         "DICT",
         "B2P",
         "Pix",
         "2417800000.0",
         "8"
        ],
        [
         "30",
         "2025-01-01",
         "PF",
         "PJ",
         "SUL",
         "SUL",
         "mais de 60 anos",
         "Nao se aplica",
         "MANU",
         "P2B",
         "Pix Saque",
         "3230000000.0",
         "17"
        ],
        [
         "31",
         "2025-01-01",
         "PF",
         "PF",
         "NORDESTE",
         "SUL",
         "entre 20 e 29 anos",
         "mais de 60 anos",
         "MANU",
         "P2P",
         "Pix",
         "2506928710000.0",
         "8557"
        ],
        [
         "32",
         "2025-01-01",
         "PF",
         "PF",
         "CENTRO-OESTE",
         "NORDESTE",
         "até 19 anos",
         "entre 20 e 29 anos",
         "Nao disponivel",
         "P2P",
         "Nao disponivel",
         "112975730000.0",
         "1273"
        ],
        [
         "33",
         "2025-01-01",
         "PF",
         "PJ",
         "SUDESTE",
         "Nao informado",
         "até 19 anos",
         "Nao se aplica",
         "Nao disponivel",
         "P2B",
         "Nao disponivel",
         "232900000.0",
         "6"
        ],
        [
         "34",
         "2025-01-01",
         "PF",
         "PF",
         "CENTRO-OESTE",
         "SUDESTE",
         "entre 40 e 49 anos",
         "entre 40 e 49 anos",
         "QRDN",
         "P2P",
         "Pix",
         "1253729460000.0",
         "28560"
        ],
        [
         "35",
         "2025-01-01",
         "PF",
         "PF",
         "NORDESTE",
         "SUDESTE",
         "entre 40 e 49 anos",
         "entre 40 e 49 anos",
         "DICT",
         "P2P",
         "Pix",
         "280808012420000.03",
         "1052730"
        ],
        [
         "36",
         "2025-01-01",
         "PJ",
         "PF",
         "CENTRO-OESTE",
         "NORDESTE",
         "Nao se aplica",
         "mais de 60 anos",
         "Nao disponivel",
         "B2P",
         "Nao disponivel",
         "67030130000.0",
         "498"
        ],
        [
         "37",
         "2025-01-01",
         "PF",
         "PF",
         "NORDESTE",
         "CENTRO-OESTE",
         "entre 30 e 39 anos",
         "mais de 60 anos",
         "DICT",
         "P2P",
         "Pix",
         "22710765940000.0",
         "78380"
        ],
        [
         "38",
         "2025-01-01",
         "PF",
         "PF",
         "NORDESTE",
         "SUL",
         "entre 40 e 49 anos",
         "mais de 60 anos",
         "MANU",
         "P2P",
         "Pix",
         "2093881190000.0",
         "4947"
        ],
        [
         "39",
         "2025-01-01",
         "PF",
         "PJ",
         "NORDESTE",
         "SUL",
         "mais de 60 anos",
         "Nao se aplica",
         "QRDN",
         "P2B",
         "Pix Troco",
         "426000000.0",
         "2"
        ],
        [
         "40",
         "2025-01-01",
         "PF",
         "PJ",
         "Nao informado",
         "SUL",
         "mais de 60 anos",
         "Nao se aplica",
         "DICT",
         "P2B",
         "Pix",
         "4232711130000.0",
         "1859"
        ],
        [
         "41",
         "2025-01-01",
         "PF",
         "PF",
         "NORTE",
         "NORTE",
         "entre 30 e 39 anos",
         "mais de 60 anos",
         "INIC",
         "P2P",
         "Pix",
         "2400000000.0",
         "3"
        ],
        [
         "42",
         "2025-01-01",
         "PF",
         "PF",
         "NORTE",
         "NORTE",
         "entre 50 e 59 anos",
         "entre 20 e 29 anos",
         "QRDN",
         "P2P",
         "Pix",
         "6536807070000.0",
         "200350"
        ],
        [
         "43",
         "2025-01-01",
         "PJ",
         "PF",
         "SUDESTE",
         "CENTRO-OESTE",
         "Nao se aplica",
         "entre 40 e 49 anos",
         "DICT",
         "B2P",
         "Pix",
         "829894931090000.0",
         "3663496"
        ],
        [
         "44",
         "2025-01-01",
         "PF",
         "PJ",
         "SUL",
         "SUL",
         "mais de 60 anos",
         "Nao se aplica",
         "Nao disponivel",
         "P2G",
         "Nao disponivel",
         "943170000.0",
         "14"
        ],
        [
         "45",
         "2025-01-01",
         "PJ",
         "PF",
         "NORTE",
         "NORTE",
         "Nao se aplica",
         "entre 50 e 59 anos",
         "MANU",
         "G2P",
         "Pix",
         "545627820000.0",
         "278"
        ],
        [
         "46",
         "2025-01-01",
         "PJ",
         "PJ",
         "SUL",
         "NORDESTE",
         "Nao se aplica",
         "Nao se aplica",
         "QRDN",
         "G2G",
         "Pix",
         "37910000.0",
         "1"
        ],
        [
         "47",
         "2025-01-01",
         "PF",
         "PF",
         "NORDESTE",
         "NORTE",
         "entre 20 e 29 anos",
         "entre 30 e 39 anos",
         "Nao disponivel",
         "P2P",
         "Nao disponivel",
         "239749040000.0",
         "1369"
        ],
        [
         "48",
         "2025-01-01",
         "PJ",
         "PJ",
         "SUL",
         "Nao informado",
         "Nao se aplica",
         "Nao se aplica",
         "Nao disponivel",
         "B2B",
         "Nao disponivel",
         "1033144530000.0",
         "1308"
        ],
        [
         "49",
         "2025-01-01",
         "PF",
         "PF",
         "Nao informado",
         "NORTE",
         "entre 20 e 29 anos",
         "entre 30 e 39 anos",
         "QRDN",
         "P2P",
         "Pix",
         "26793760000.0",
         "731"
        ]
       ],
       "shape": {
        "columns": 12,
        "rows": 100
       }
      },
      "text/html": [
       "<div>\n",
       "<style scoped>\n",
       "    .dataframe tbody tr th:only-of-type {\n",
       "        vertical-align: middle;\n",
       "    }\n",
       "\n",
       "    .dataframe tbody tr th {\n",
       "        vertical-align: top;\n",
       "    }\n",
       "\n",
       "    .dataframe thead th {\n",
       "        text-align: right;\n",
       "    }\n",
       "</style>\n",
       "<table border=\"1\" class=\"dataframe\">\n",
       "  <thead>\n",
       "    <tr style=\"text-align: right;\">\n",
       "      <th></th>\n",
       "      <th>AnoMes</th>\n",
       "      <th>PAG_PFPJ</th>\n",
       "      <th>REC_PFPJ</th>\n",
       "      <th>PAG_REGIAO</th>\n",
       "      <th>REC_REGIAO</th>\n",
       "      <th>PAG_IDADE</th>\n",
       "      <th>REC_IDADE</th>\n",
       "      <th>FORMAINICIACAO</th>\n",
       "      <th>NATUREZA</th>\n",
       "      <th>FINALIDADE</th>\n",
       "      <th>VALOR</th>\n",
       "      <th>QUANTIDADE</th>\n",
       "    </tr>\n",
       "  </thead>\n",
       "  <tbody>\n",
       "    <tr>\n",
       "      <th>0</th>\n",
       "      <td>2025-01-01</td>\n",
       "      <td>PF</td>\n",
       "      <td>PF</td>\n",
       "      <td>CENTRO-OESTE</td>\n",
       "      <td>SUDESTE</td>\n",
       "      <td>entre 30 e 39 anos</td>\n",
       "      <td>entre 50 e 59 anos</td>\n",
       "      <td>QRES</td>\n",
       "      <td>P2P</td>\n",
       "      <td>Pix</td>\n",
       "      <td>1.765604e+12</td>\n",
       "      <td>30585</td>\n",
       "    </tr>\n",
       "    <tr>\n",
       "      <th>1</th>\n",
       "      <td>2025-01-01</td>\n",
       "      <td>PF</td>\n",
       "      <td>PF</td>\n",
       "      <td>Nao informado</td>\n",
       "      <td>Nao informado</td>\n",
       "      <td>até 19 anos</td>\n",
       "      <td>entre 30 e 39 anos</td>\n",
       "      <td>MANU</td>\n",
       "      <td>P2P</td>\n",
       "      <td>Pix</td>\n",
       "      <td>3.268242e+10</td>\n",
       "      <td>388</td>\n",
       "    </tr>\n",
       "    <tr>\n",
       "      <th>2</th>\n",
       "      <td>2025-01-01</td>\n",
       "      <td>PF</td>\n",
       "      <td>PF</td>\n",
       "      <td>SUDESTE</td>\n",
       "      <td>SUL</td>\n",
       "      <td>entre 50 e 59 anos</td>\n",
       "      <td>entre 40 e 49 anos</td>\n",
       "      <td>MANU</td>\n",
       "      <td>P2P</td>\n",
       "      <td>Pix</td>\n",
       "      <td>1.097083e+13</td>\n",
       "      <td>25569</td>\n",
       "    </tr>\n",
       "    <tr>\n",
       "      <th>3</th>\n",
       "      <td>2025-01-01</td>\n",
       "      <td>PJ</td>\n",
       "      <td>PF</td>\n",
       "      <td>Nao informado</td>\n",
       "      <td>SUDESTE</td>\n",
       "      <td>Nao se aplica</td>\n",
       "      <td>até 19 anos</td>\n",
       "      <td>QRES</td>\n",
       "      <td>B2P</td>\n",
       "      <td>Pix</td>\n",
       "      <td>7.578677e+10</td>\n",
       "      <td>991</td>\n",
       "    </tr>\n",
       "    <tr>\n",
       "      <th>4</th>\n",
       "      <td>2025-01-01</td>\n",
       "      <td>PF</td>\n",
       "      <td>PF</td>\n",
       "      <td>NORDESTE</td>\n",
       "      <td>SUDESTE</td>\n",
       "      <td>Nao informado</td>\n",
       "      <td>entre 40 e 49 anos</td>\n",
       "      <td>MANU</td>\n",
       "      <td>P2P</td>\n",
       "      <td>Pix</td>\n",
       "      <td>4.915000e+08</td>\n",
       "      <td>6</td>\n",
       "    </tr>\n",
       "    <tr>\n",
       "      <th>...</th>\n",
       "      <td>...</td>\n",
       "      <td>...</td>\n",
       "      <td>...</td>\n",
       "      <td>...</td>\n",
       "      <td>...</td>\n",
       "      <td>...</td>\n",
       "      <td>...</td>\n",
       "      <td>...</td>\n",
       "      <td>...</td>\n",
       "      <td>...</td>\n",
       "      <td>...</td>\n",
       "      <td>...</td>\n",
       "    </tr>\n",
       "    <tr>\n",
       "      <th>95</th>\n",
       "      <td>2025-01-01</td>\n",
       "      <td>PF</td>\n",
       "      <td>PF</td>\n",
       "      <td>NORDESTE</td>\n",
       "      <td>NORDESTE</td>\n",
       "      <td>mais de 60 anos</td>\n",
       "      <td>entre 50 e 59 anos</td>\n",
       "      <td>Nao disponivel</td>\n",
       "      <td>P2P</td>\n",
       "      <td>Nao disponivel</td>\n",
       "      <td>8.950206e+11</td>\n",
       "      <td>2797</td>\n",
       "    </tr>\n",
       "    <tr>\n",
       "      <th>96</th>\n",
       "      <td>2025-01-01</td>\n",
       "      <td>PF</td>\n",
       "      <td>PF</td>\n",
       "      <td>SUDESTE</td>\n",
       "      <td>CENTRO-OESTE</td>\n",
       "      <td>entre 20 e 29 anos</td>\n",
       "      <td>entre 20 e 29 anos</td>\n",
       "      <td>QRDN</td>\n",
       "      <td>P2P</td>\n",
       "      <td>Pix</td>\n",
       "      <td>1.344287e+12</td>\n",
       "      <td>25794</td>\n",
       "    </tr>\n",
       "    <tr>\n",
       "      <th>97</th>\n",
       "      <td>2025-01-01</td>\n",
       "      <td>PF</td>\n",
       "      <td>PF</td>\n",
       "      <td>CENTRO-OESTE</td>\n",
       "      <td>SUL</td>\n",
       "      <td>entre 30 e 39 anos</td>\n",
       "      <td>entre 50 e 59 anos</td>\n",
       "      <td>DICT</td>\n",
       "      <td>P2P</td>\n",
       "      <td>Pix</td>\n",
       "      <td>1.981537e+13</td>\n",
       "      <td>45540</td>\n",
       "    </tr>\n",
       "    <tr>\n",
       "      <th>98</th>\n",
       "      <td>2025-01-01</td>\n",
       "      <td>PF</td>\n",
       "      <td>PF</td>\n",
       "      <td>NORTE</td>\n",
       "      <td>Nao informado</td>\n",
       "      <td>até 19 anos</td>\n",
       "      <td>entre 40 e 49 anos</td>\n",
       "      <td>MANU</td>\n",
       "      <td>P2P</td>\n",
       "      <td>Pix</td>\n",
       "      <td>4.027979e+10</td>\n",
       "      <td>396</td>\n",
       "    </tr>\n",
       "    <tr>\n",
       "      <th>99</th>\n",
       "      <td>2025-01-01</td>\n",
       "      <td>PF</td>\n",
       "      <td>PJ</td>\n",
       "      <td>CENTRO-OESTE</td>\n",
       "      <td>SUL</td>\n",
       "      <td>entre 30 e 39 anos</td>\n",
       "      <td>Nao se aplica</td>\n",
       "      <td>QRES</td>\n",
       "      <td>P2B</td>\n",
       "      <td>Pix</td>\n",
       "      <td>3.942396e+13</td>\n",
       "      <td>206515</td>\n",
       "    </tr>\n",
       "  </tbody>\n",
       "</table>\n",
       "<p>100 rows × 12 columns</p>\n",
       "</div>"
      ],
      "text/plain": [
       "        AnoMes PAG_PFPJ REC_PFPJ     PAG_REGIAO     REC_REGIAO  \\\n",
       "0   2025-01-01       PF       PF   CENTRO-OESTE        SUDESTE   \n",
       "1   2025-01-01       PF       PF  Nao informado  Nao informado   \n",
       "2   2025-01-01       PF       PF        SUDESTE            SUL   \n",
       "3   2025-01-01       PJ       PF  Nao informado        SUDESTE   \n",
       "4   2025-01-01       PF       PF       NORDESTE        SUDESTE   \n",
       "..         ...      ...      ...            ...            ...   \n",
       "95  2025-01-01       PF       PF       NORDESTE       NORDESTE   \n",
       "96  2025-01-01       PF       PF        SUDESTE   CENTRO-OESTE   \n",
       "97  2025-01-01       PF       PF   CENTRO-OESTE            SUL   \n",
       "98  2025-01-01       PF       PF          NORTE  Nao informado   \n",
       "99  2025-01-01       PF       PJ   CENTRO-OESTE            SUL   \n",
       "\n",
       "             PAG_IDADE           REC_IDADE  FORMAINICIACAO NATUREZA  \\\n",
       "0   entre 30 e 39 anos  entre 50 e 59 anos            QRES      P2P   \n",
       "1          até 19 anos  entre 30 e 39 anos            MANU      P2P   \n",
       "2   entre 50 e 59 anos  entre 40 e 49 anos            MANU      P2P   \n",
       "3        Nao se aplica         até 19 anos            QRES      B2P   \n",
       "4        Nao informado  entre 40 e 49 anos            MANU      P2P   \n",
       "..                 ...                 ...             ...      ...   \n",
       "95     mais de 60 anos  entre 50 e 59 anos  Nao disponivel      P2P   \n",
       "96  entre 20 e 29 anos  entre 20 e 29 anos            QRDN      P2P   \n",
       "97  entre 30 e 39 anos  entre 50 e 59 anos            DICT      P2P   \n",
       "98         até 19 anos  entre 40 e 49 anos            MANU      P2P   \n",
       "99  entre 30 e 39 anos       Nao se aplica            QRES      P2B   \n",
       "\n",
       "        FINALIDADE         VALOR  QUANTIDADE  \n",
       "0              Pix  1.765604e+12       30585  \n",
       "1              Pix  3.268242e+10         388  \n",
       "2              Pix  1.097083e+13       25569  \n",
       "3              Pix  7.578677e+10         991  \n",
       "4              Pix  4.915000e+08           6  \n",
       "..             ...           ...         ...  \n",
       "95  Nao disponivel  8.950206e+11        2797  \n",
       "96             Pix  1.344287e+12       25794  \n",
       "97             Pix  1.981537e+13       45540  \n",
       "98             Pix  4.027979e+10         396  \n",
       "99             Pix  3.942396e+13      206515  \n",
       "\n",
       "[100 rows x 12 columns]"
      ]
     },
     "execution_count": 13,
     "metadata": {},
     "output_type": "execute_result"
    }
   ],
   "source": [
    "df"
   ]
  },
  {
   "cell_type": "markdown",
   "id": "7a3692b4",
   "metadata": {},
   "source": [
    "Ajustando as colunas que estão em milhares."
   ]
  },
  {
   "cell_type": "code",
   "execution_count": 14,
   "id": "dfaa69f2",
   "metadata": {},
   "outputs": [],
   "source": [
    "thousand_columns = ['QUANTIDADE']\n",
    "for col in thousand_columns:\n",
    "    df[col] = df[col] * 1_000"
   ]
  },
  {
   "cell_type": "code",
   "execution_count": 15,
   "id": "c873d4ae",
   "metadata": {},
   "outputs": [
    {
     "data": {
      "application/vnd.microsoft.datawrangler.viewer.v0+json": {
       "columns": [
        {
         "name": "index",
         "rawType": "int64",
         "type": "integer"
        },
        {
         "name": "AnoMes",
         "rawType": "object",
         "type": "unknown"
        },
        {
         "name": "PAG_PFPJ",
         "rawType": "object",
         "type": "string"
        },
        {
         "name": "REC_PFPJ",
         "rawType": "object",
         "type": "string"
        },
        {
         "name": "PAG_REGIAO",
         "rawType": "object",
         "type": "string"
        },
        {
         "name": "REC_REGIAO",
         "rawType": "object",
         "type": "string"
        },
        {
         "name": "PAG_IDADE",
         "rawType": "object",
         "type": "string"
        },
        {
         "name": "REC_IDADE",
         "rawType": "object",
         "type": "string"
        },
        {
         "name": "FORMAINICIACAO",
         "rawType": "object",
         "type": "string"
        },
        {
         "name": "NATUREZA",
         "rawType": "object",
         "type": "string"
        },
        {
         "name": "FINALIDADE",
         "rawType": "object",
         "type": "string"
        },
        {
         "name": "VALOR",
         "rawType": "float64",
         "type": "float"
        },
        {
         "name": "QUANTIDADE",
         "rawType": "int64",
         "type": "integer"
        }
       ],
       "ref": "c0da3ccf-ef12-4b8c-a7e0-c98c3146aea3",
       "rows": [
        [
         "0",
         "2025-01-01",
         "PF",
         "PF",
         "CENTRO-OESTE",
         "SUDESTE",
         "entre 30 e 39 anos",
         "entre 50 e 59 anos",
         "QRES",
         "P2P",
         "Pix",
         "1765603500000.0",
         "30585000"
        ],
        [
         "1",
         "2025-01-01",
         "PF",
         "PF",
         "Nao informado",
         "Nao informado",
         "até 19 anos",
         "entre 30 e 39 anos",
         "MANU",
         "P2P",
         "Pix",
         "32682420000.0",
         "388000"
        ],
        [
         "2",
         "2025-01-01",
         "PF",
         "PF",
         "SUDESTE",
         "SUL",
         "entre 50 e 59 anos",
         "entre 40 e 49 anos",
         "MANU",
         "P2P",
         "Pix",
         "10970832960000.0",
         "25569000"
        ],
        [
         "3",
         "2025-01-01",
         "PJ",
         "PF",
         "Nao informado",
         "SUDESTE",
         "Nao se aplica",
         "até 19 anos",
         "QRES",
         "B2P",
         "Pix",
         "75786770000.0",
         "991000"
        ],
        [
         "4",
         "2025-01-01",
         "PF",
         "PF",
         "NORDESTE",
         "SUDESTE",
         "Nao informado",
         "entre 40 e 49 anos",
         "MANU",
         "P2P",
         "Pix",
         "491500000.0",
         "6000"
        ],
        [
         "5",
         "2025-01-01",
         "PF",
         "PF",
         "SUDESTE",
         "NORTE",
         "entre 30 e 39 anos",
         "entre 50 e 59 anos",
         "Nao disponivel",
         "P2P",
         "Nao disponivel",
         "91317390000.0",
         "270000"
        ],
        [
         "6",
         "2025-01-01",
         "PF",
         "PF",
         "SUL",
         "Nao informado",
         "entre 20 e 29 anos",
         "Nao informado",
         "MANU",
         "P2P",
         "Pix",
         "518000000.0",
         "8000"
        ],
        [
         "7",
         "2025-01-01",
         "PF",
         "PF",
         "SUDESTE",
         "SUDESTE",
         "entre 30 e 39 anos",
         "entre 20 e 29 anos",
         "QRDN",
         "P2P",
         "Pix",
         "56186683010000.0",
         "1893270000"
        ],
        [
         "8",
         "2025-01-01",
         "PF",
         "PF",
         "Nao informado",
         "SUDESTE",
         "até 19 anos",
         "entre 30 e 39 anos",
         "DICT",
         "P2P",
         "Pix",
         "122867600000.0",
         "502000"
        ],
        [
         "9",
         "2025-01-01",
         "PF",
         "PF",
         "NORDESTE",
         "SUDESTE",
         "entre 30 e 39 anos",
         "entre 50 e 59 anos",
         "QRES",
         "P2P",
         "Pix",
         "6940329500000.0",
         "206905000"
        ],
        [
         "10",
         "2025-01-01",
         "PF",
         "PJ",
         "SUL",
         "Nao informado",
         "entre 20 e 29 anos",
         "Nao se aplica",
         "DICT",
         "P2B",
         "Pix",
         "356162310000.0",
         "283000"
        ],
        [
         "11",
         "2025-01-01",
         "PJ",
         "PJ",
         "SUDESTE",
         "SUDESTE",
         "Nao se aplica",
         "Nao se aplica",
         "DICT",
         "G2B",
         "Pix",
         "94146275520000.0",
         "16164000"
        ],
        [
         "12",
         "2025-01-01",
         "PF",
         "PJ",
         "Nao informado",
         "SUL",
         "entre 20 e 29 anos",
         "Nao se aplica",
         "QRES",
         "P2G",
         "Pix",
         "711890000.0",
         "18000"
        ],
        [
         "13",
         "2025-01-01",
         "PF",
         "PF",
         "SUL",
         "SUL",
         "entre 30 e 39 anos",
         "até 19 anos",
         "QRES",
         "P2P",
         "Pix",
         "4085843390000.0",
         "63886000"
        ],
        [
         "14",
         "2025-01-01",
         "PF",
         "PF",
         "NORDESTE",
         "NORTE",
         "entre 40 e 49 anos",
         "mais de 60 anos",
         "QRDN",
         "P2P",
         "Pix",
         "296353340000.0",
         "9015000"
        ],
        [
         "15",
         "2025-01-01",
         "PF",
         "PF",
         "NORTE",
         "NORTE",
         "entre 20 e 29 anos",
         "entre 20 e 29 anos",
         "Nao disponivel",
         "P2P",
         "Nao disponivel",
         "10984154270000.0",
         "56441000"
        ],
        [
         "16",
         "2025-01-01",
         "PF",
         "PJ",
         "NORDESTE",
         "NORTE",
         "entre 50 e 59 anos",
         "Nao se aplica",
         "QRES",
         "P2G",
         "Pix",
         "2158320000.0",
         "12000"
        ],
        [
         "17",
         "2025-01-01",
         "PF",
         "PJ",
         "SUDESTE",
         "NORDESTE",
         "entre 40 e 49 anos",
         "Nao se aplica",
         "MANU",
         "P2G",
         "Pix",
         "13095180000.0",
         "26000"
        ],
        [
         "18",
         "2025-01-01",
         "PF",
         "PF",
         "CENTRO-OESTE",
         "SUL",
         "entre 30 e 39 anos",
         "entre 20 e 29 anos",
         "QRDN",
         "P2P",
         "Pix",
         "321627420000.0",
         "7255000"
        ],
        [
         "19",
         "2025-01-01",
         "PF",
         "PJ",
         "SUL",
         "SUL",
         "entre 20 e 29 anos",
         "Nao se aplica",
         "QRES",
         "P2B",
         "Pix",
         "503929846460000.0",
         "4943783000"
        ],
        [
         "20",
         "2025-01-01",
         "PF",
         "PJ",
         "NORTE",
         "SUDESTE",
         "entre 40 e 49 anos",
         "Nao se aplica",
         "QRDN",
         "P2B",
         "Pix",
         "1066167868350000.0",
         "19165982000"
        ],
        [
         "21",
         "2025-01-01",
         "PJ",
         "PF",
         "SUDESTE",
         "NORTE",
         "Nao se aplica",
         "entre 50 e 59 anos",
         "QRES",
         "B2P",
         "Pix",
         "503729990000.0",
         "2845000"
        ],
        [
         "22",
         "2025-01-01",
         "PF",
         "PF",
         "Nao informado",
         "CENTRO-OESTE",
         "entre 30 e 39 anos",
         "até 19 anos",
         "Nao disponivel",
         "P2P",
         "Nao disponivel",
         "1415000000.0",
         "6000"
        ],
        [
         "23",
         "2025-01-01",
         "PF",
         "PJ",
         "NORTE",
         "SUDESTE",
         "entre 40 e 49 anos",
         "Nao se aplica",
         "QRES",
         "P2B",
         "Pix",
         "142836140620000.0",
         "789871000"
        ],
        [
         "24",
         "2025-01-01",
         "PF",
         "PF",
         "SUDESTE",
         "NORTE",
         "mais de 60 anos",
         "entre 20 e 29 anos",
         "MANU",
         "P2P",
         "Pix",
         "1447156300000.0",
         "8019000"
        ],
        [
         "25",
         "2025-01-01",
         "PF",
         "PF",
         "SUDESTE",
         "CENTRO-OESTE",
         "entre 30 e 39 anos",
         "mais de 60 anos",
         "QRES",
         "P2P",
         "Pix",
         "612551090000.0",
         "14375000"
        ],
        [
         "26",
         "2025-01-01",
         "PF",
         "PF",
         "SUDESTE",
         "SUL",
         "entre 50 e 59 anos",
         "até 19 anos",
         "Nao disponivel",
         "P2P",
         "Nao disponivel",
         "12805710000.0",
         "349000"
        ],
        [
         "27",
         "2025-01-01",
         "PF",
         "PF",
         "SUL",
         "NORTE",
         "até 19 anos",
         "até 19 anos",
         "QRDN",
         "P2P",
         "Pix",
         "13579290000.0",
         "613000"
        ],
        [
         "28",
         "2025-01-01",
         "PF",
         "PF",
         "CENTRO-OESTE",
         "SUL",
         "entre 50 e 59 anos",
         "entre 20 e 29 anos",
         "QRDN",
         "P2P",
         "Pix",
         "80217130000.0",
         "1678000"
        ],
        [
         "29",
         "2025-01-01",
         "PJ",
         "PF",
         "NORTE",
         "NORTE",
         "Nao se aplica",
         "Nao informado",
         "DICT",
         "B2P",
         "Pix",
         "2417800000.0",
         "8000"
        ],
        [
         "30",
         "2025-01-01",
         "PF",
         "PJ",
         "SUL",
         "SUL",
         "mais de 60 anos",
         "Nao se aplica",
         "MANU",
         "P2B",
         "Pix Saque",
         "3230000000.0",
         "17000"
        ],
        [
         "31",
         "2025-01-01",
         "PF",
         "PF",
         "NORDESTE",
         "SUL",
         "entre 20 e 29 anos",
         "mais de 60 anos",
         "MANU",
         "P2P",
         "Pix",
         "2506928710000.0",
         "8557000"
        ],
        [
         "32",
         "2025-01-01",
         "PF",
         "PF",
         "CENTRO-OESTE",
         "NORDESTE",
         "até 19 anos",
         "entre 20 e 29 anos",
         "Nao disponivel",
         "P2P",
         "Nao disponivel",
         "112975730000.0",
         "1273000"
        ],
        [
         "33",
         "2025-01-01",
         "PF",
         "PJ",
         "SUDESTE",
         "Nao informado",
         "até 19 anos",
         "Nao se aplica",
         "Nao disponivel",
         "P2B",
         "Nao disponivel",
         "232900000.0",
         "6000"
        ],
        [
         "34",
         "2025-01-01",
         "PF",
         "PF",
         "CENTRO-OESTE",
         "SUDESTE",
         "entre 40 e 49 anos",
         "entre 40 e 49 anos",
         "QRDN",
         "P2P",
         "Pix",
         "1253729460000.0",
         "28560000"
        ],
        [
         "35",
         "2025-01-01",
         "PF",
         "PF",
         "NORDESTE",
         "SUDESTE",
         "entre 40 e 49 anos",
         "entre 40 e 49 anos",
         "DICT",
         "P2P",
         "Pix",
         "280808012420000.03",
         "1052730000"
        ],
        [
         "36",
         "2025-01-01",
         "PJ",
         "PF",
         "CENTRO-OESTE",
         "NORDESTE",
         "Nao se aplica",
         "mais de 60 anos",
         "Nao disponivel",
         "B2P",
         "Nao disponivel",
         "67030130000.0",
         "498000"
        ],
        [
         "37",
         "2025-01-01",
         "PF",
         "PF",
         "NORDESTE",
         "CENTRO-OESTE",
         "entre 30 e 39 anos",
         "mais de 60 anos",
         "DICT",
         "P2P",
         "Pix",
         "22710765940000.0",
         "78380000"
        ],
        [
         "38",
         "2025-01-01",
         "PF",
         "PF",
         "NORDESTE",
         "SUL",
         "entre 40 e 49 anos",
         "mais de 60 anos",
         "MANU",
         "P2P",
         "Pix",
         "2093881190000.0",
         "4947000"
        ],
        [
         "39",
         "2025-01-01",
         "PF",
         "PJ",
         "NORDESTE",
         "SUL",
         "mais de 60 anos",
         "Nao se aplica",
         "QRDN",
         "P2B",
         "Pix Troco",
         "426000000.0",
         "2000"
        ],
        [
         "40",
         "2025-01-01",
         "PF",
         "PJ",
         "Nao informado",
         "SUL",
         "mais de 60 anos",
         "Nao se aplica",
         "DICT",
         "P2B",
         "Pix",
         "4232711130000.0",
         "1859000"
        ],
        [
         "41",
         "2025-01-01",
         "PF",
         "PF",
         "NORTE",
         "NORTE",
         "entre 30 e 39 anos",
         "mais de 60 anos",
         "INIC",
         "P2P",
         "Pix",
         "2400000000.0",
         "3000"
        ],
        [
         "42",
         "2025-01-01",
         "PF",
         "PF",
         "NORTE",
         "NORTE",
         "entre 50 e 59 anos",
         "entre 20 e 29 anos",
         "QRDN",
         "P2P",
         "Pix",
         "6536807070000.0",
         "200350000"
        ],
        [
         "43",
         "2025-01-01",
         "PJ",
         "PF",
         "SUDESTE",
         "CENTRO-OESTE",
         "Nao se aplica",
         "entre 40 e 49 anos",
         "DICT",
         "B2P",
         "Pix",
         "829894931090000.0",
         "3663496000"
        ],
        [
         "44",
         "2025-01-01",
         "PF",
         "PJ",
         "SUL",
         "SUL",
         "mais de 60 anos",
         "Nao se aplica",
         "Nao disponivel",
         "P2G",
         "Nao disponivel",
         "943170000.0",
         "14000"
        ],
        [
         "45",
         "2025-01-01",
         "PJ",
         "PF",
         "NORTE",
         "NORTE",
         "Nao se aplica",
         "entre 50 e 59 anos",
         "MANU",
         "G2P",
         "Pix",
         "545627820000.0",
         "278000"
        ],
        [
         "46",
         "2025-01-01",
         "PJ",
         "PJ",
         "SUL",
         "NORDESTE",
         "Nao se aplica",
         "Nao se aplica",
         "QRDN",
         "G2G",
         "Pix",
         "37910000.0",
         "1000"
        ],
        [
         "47",
         "2025-01-01",
         "PF",
         "PF",
         "NORDESTE",
         "NORTE",
         "entre 20 e 29 anos",
         "entre 30 e 39 anos",
         "Nao disponivel",
         "P2P",
         "Nao disponivel",
         "239749040000.0",
         "1369000"
        ],
        [
         "48",
         "2025-01-01",
         "PJ",
         "PJ",
         "SUL",
         "Nao informado",
         "Nao se aplica",
         "Nao se aplica",
         "Nao disponivel",
         "B2B",
         "Nao disponivel",
         "1033144530000.0",
         "1308000"
        ],
        [
         "49",
         "2025-01-01",
         "PF",
         "PF",
         "Nao informado",
         "NORTE",
         "entre 20 e 29 anos",
         "entre 30 e 39 anos",
         "QRDN",
         "P2P",
         "Pix",
         "26793760000.0",
         "731000"
        ]
       ],
       "shape": {
        "columns": 12,
        "rows": 100
       }
      },
      "text/html": [
       "<div>\n",
       "<style scoped>\n",
       "    .dataframe tbody tr th:only-of-type {\n",
       "        vertical-align: middle;\n",
       "    }\n",
       "\n",
       "    .dataframe tbody tr th {\n",
       "        vertical-align: top;\n",
       "    }\n",
       "\n",
       "    .dataframe thead th {\n",
       "        text-align: right;\n",
       "    }\n",
       "</style>\n",
       "<table border=\"1\" class=\"dataframe\">\n",
       "  <thead>\n",
       "    <tr style=\"text-align: right;\">\n",
       "      <th></th>\n",
       "      <th>AnoMes</th>\n",
       "      <th>PAG_PFPJ</th>\n",
       "      <th>REC_PFPJ</th>\n",
       "      <th>PAG_REGIAO</th>\n",
       "      <th>REC_REGIAO</th>\n",
       "      <th>PAG_IDADE</th>\n",
       "      <th>REC_IDADE</th>\n",
       "      <th>FORMAINICIACAO</th>\n",
       "      <th>NATUREZA</th>\n",
       "      <th>FINALIDADE</th>\n",
       "      <th>VALOR</th>\n",
       "      <th>QUANTIDADE</th>\n",
       "    </tr>\n",
       "  </thead>\n",
       "  <tbody>\n",
       "    <tr>\n",
       "      <th>0</th>\n",
       "      <td>2025-01-01</td>\n",
       "      <td>PF</td>\n",
       "      <td>PF</td>\n",
       "      <td>CENTRO-OESTE</td>\n",
       "      <td>SUDESTE</td>\n",
       "      <td>entre 30 e 39 anos</td>\n",
       "      <td>entre 50 e 59 anos</td>\n",
       "      <td>QRES</td>\n",
       "      <td>P2P</td>\n",
       "      <td>Pix</td>\n",
       "      <td>1.765604e+12</td>\n",
       "      <td>30585000</td>\n",
       "    </tr>\n",
       "    <tr>\n",
       "      <th>1</th>\n",
       "      <td>2025-01-01</td>\n",
       "      <td>PF</td>\n",
       "      <td>PF</td>\n",
       "      <td>Nao informado</td>\n",
       "      <td>Nao informado</td>\n",
       "      <td>até 19 anos</td>\n",
       "      <td>entre 30 e 39 anos</td>\n",
       "      <td>MANU</td>\n",
       "      <td>P2P</td>\n",
       "      <td>Pix</td>\n",
       "      <td>3.268242e+10</td>\n",
       "      <td>388000</td>\n",
       "    </tr>\n",
       "    <tr>\n",
       "      <th>2</th>\n",
       "      <td>2025-01-01</td>\n",
       "      <td>PF</td>\n",
       "      <td>PF</td>\n",
       "      <td>SUDESTE</td>\n",
       "      <td>SUL</td>\n",
       "      <td>entre 50 e 59 anos</td>\n",
       "      <td>entre 40 e 49 anos</td>\n",
       "      <td>MANU</td>\n",
       "      <td>P2P</td>\n",
       "      <td>Pix</td>\n",
       "      <td>1.097083e+13</td>\n",
       "      <td>25569000</td>\n",
       "    </tr>\n",
       "    <tr>\n",
       "      <th>3</th>\n",
       "      <td>2025-01-01</td>\n",
       "      <td>PJ</td>\n",
       "      <td>PF</td>\n",
       "      <td>Nao informado</td>\n",
       "      <td>SUDESTE</td>\n",
       "      <td>Nao se aplica</td>\n",
       "      <td>até 19 anos</td>\n",
       "      <td>QRES</td>\n",
       "      <td>B2P</td>\n",
       "      <td>Pix</td>\n",
       "      <td>7.578677e+10</td>\n",
       "      <td>991000</td>\n",
       "    </tr>\n",
       "    <tr>\n",
       "      <th>4</th>\n",
       "      <td>2025-01-01</td>\n",
       "      <td>PF</td>\n",
       "      <td>PF</td>\n",
       "      <td>NORDESTE</td>\n",
       "      <td>SUDESTE</td>\n",
       "      <td>Nao informado</td>\n",
       "      <td>entre 40 e 49 anos</td>\n",
       "      <td>MANU</td>\n",
       "      <td>P2P</td>\n",
       "      <td>Pix</td>\n",
       "      <td>4.915000e+08</td>\n",
       "      <td>6000</td>\n",
       "    </tr>\n",
       "    <tr>\n",
       "      <th>...</th>\n",
       "      <td>...</td>\n",
       "      <td>...</td>\n",
       "      <td>...</td>\n",
       "      <td>...</td>\n",
       "      <td>...</td>\n",
       "      <td>...</td>\n",
       "      <td>...</td>\n",
       "      <td>...</td>\n",
       "      <td>...</td>\n",
       "      <td>...</td>\n",
       "      <td>...</td>\n",
       "      <td>...</td>\n",
       "    </tr>\n",
       "    <tr>\n",
       "      <th>95</th>\n",
       "      <td>2025-01-01</td>\n",
       "      <td>PF</td>\n",
       "      <td>PF</td>\n",
       "      <td>NORDESTE</td>\n",
       "      <td>NORDESTE</td>\n",
       "      <td>mais de 60 anos</td>\n",
       "      <td>entre 50 e 59 anos</td>\n",
       "      <td>Nao disponivel</td>\n",
       "      <td>P2P</td>\n",
       "      <td>Nao disponivel</td>\n",
       "      <td>8.950206e+11</td>\n",
       "      <td>2797000</td>\n",
       "    </tr>\n",
       "    <tr>\n",
       "      <th>96</th>\n",
       "      <td>2025-01-01</td>\n",
       "      <td>PF</td>\n",
       "      <td>PF</td>\n",
       "      <td>SUDESTE</td>\n",
       "      <td>CENTRO-OESTE</td>\n",
       "      <td>entre 20 e 29 anos</td>\n",
       "      <td>entre 20 e 29 anos</td>\n",
       "      <td>QRDN</td>\n",
       "      <td>P2P</td>\n",
       "      <td>Pix</td>\n",
       "      <td>1.344287e+12</td>\n",
       "      <td>25794000</td>\n",
       "    </tr>\n",
       "    <tr>\n",
       "      <th>97</th>\n",
       "      <td>2025-01-01</td>\n",
       "      <td>PF</td>\n",
       "      <td>PF</td>\n",
       "      <td>CENTRO-OESTE</td>\n",
       "      <td>SUL</td>\n",
       "      <td>entre 30 e 39 anos</td>\n",
       "      <td>entre 50 e 59 anos</td>\n",
       "      <td>DICT</td>\n",
       "      <td>P2P</td>\n",
       "      <td>Pix</td>\n",
       "      <td>1.981537e+13</td>\n",
       "      <td>45540000</td>\n",
       "    </tr>\n",
       "    <tr>\n",
       "      <th>98</th>\n",
       "      <td>2025-01-01</td>\n",
       "      <td>PF</td>\n",
       "      <td>PF</td>\n",
       "      <td>NORTE</td>\n",
       "      <td>Nao informado</td>\n",
       "      <td>até 19 anos</td>\n",
       "      <td>entre 40 e 49 anos</td>\n",
       "      <td>MANU</td>\n",
       "      <td>P2P</td>\n",
       "      <td>Pix</td>\n",
       "      <td>4.027979e+10</td>\n",
       "      <td>396000</td>\n",
       "    </tr>\n",
       "    <tr>\n",
       "      <th>99</th>\n",
       "      <td>2025-01-01</td>\n",
       "      <td>PF</td>\n",
       "      <td>PJ</td>\n",
       "      <td>CENTRO-OESTE</td>\n",
       "      <td>SUL</td>\n",
       "      <td>entre 30 e 39 anos</td>\n",
       "      <td>Nao se aplica</td>\n",
       "      <td>QRES</td>\n",
       "      <td>P2B</td>\n",
       "      <td>Pix</td>\n",
       "      <td>3.942396e+13</td>\n",
       "      <td>206515000</td>\n",
       "    </tr>\n",
       "  </tbody>\n",
       "</table>\n",
       "<p>100 rows × 12 columns</p>\n",
       "</div>"
      ],
      "text/plain": [
       "        AnoMes PAG_PFPJ REC_PFPJ     PAG_REGIAO     REC_REGIAO  \\\n",
       "0   2025-01-01       PF       PF   CENTRO-OESTE        SUDESTE   \n",
       "1   2025-01-01       PF       PF  Nao informado  Nao informado   \n",
       "2   2025-01-01       PF       PF        SUDESTE            SUL   \n",
       "3   2025-01-01       PJ       PF  Nao informado        SUDESTE   \n",
       "4   2025-01-01       PF       PF       NORDESTE        SUDESTE   \n",
       "..         ...      ...      ...            ...            ...   \n",
       "95  2025-01-01       PF       PF       NORDESTE       NORDESTE   \n",
       "96  2025-01-01       PF       PF        SUDESTE   CENTRO-OESTE   \n",
       "97  2025-01-01       PF       PF   CENTRO-OESTE            SUL   \n",
       "98  2025-01-01       PF       PF          NORTE  Nao informado   \n",
       "99  2025-01-01       PF       PJ   CENTRO-OESTE            SUL   \n",
       "\n",
       "             PAG_IDADE           REC_IDADE  FORMAINICIACAO NATUREZA  \\\n",
       "0   entre 30 e 39 anos  entre 50 e 59 anos            QRES      P2P   \n",
       "1          até 19 anos  entre 30 e 39 anos            MANU      P2P   \n",
       "2   entre 50 e 59 anos  entre 40 e 49 anos            MANU      P2P   \n",
       "3        Nao se aplica         até 19 anos            QRES      B2P   \n",
       "4        Nao informado  entre 40 e 49 anos            MANU      P2P   \n",
       "..                 ...                 ...             ...      ...   \n",
       "95     mais de 60 anos  entre 50 e 59 anos  Nao disponivel      P2P   \n",
       "96  entre 20 e 29 anos  entre 20 e 29 anos            QRDN      P2P   \n",
       "97  entre 30 e 39 anos  entre 50 e 59 anos            DICT      P2P   \n",
       "98         até 19 anos  entre 40 e 49 anos            MANU      P2P   \n",
       "99  entre 30 e 39 anos       Nao se aplica            QRES      P2B   \n",
       "\n",
       "        FINALIDADE         VALOR  QUANTIDADE  \n",
       "0              Pix  1.765604e+12    30585000  \n",
       "1              Pix  3.268242e+10      388000  \n",
       "2              Pix  1.097083e+13    25569000  \n",
       "3              Pix  7.578677e+10      991000  \n",
       "4              Pix  4.915000e+08        6000  \n",
       "..             ...           ...         ...  \n",
       "95  Nao disponivel  8.950206e+11     2797000  \n",
       "96             Pix  1.344287e+12    25794000  \n",
       "97             Pix  1.981537e+13    45540000  \n",
       "98             Pix  4.027979e+10      396000  \n",
       "99             Pix  3.942396e+13   206515000  \n",
       "\n",
       "[100 rows x 12 columns]"
      ]
     },
     "execution_count": 15,
     "metadata": {},
     "output_type": "execute_result"
    }
   ],
   "source": [
    "df"
   ]
  },
  {
   "cell_type": "markdown",
   "id": "9cae15ff",
   "metadata": {},
   "source": [
    "## Estatísticas Descritivas\n",
    "\n",
    "Nosso conjunto de dados está com algumas colunas que não farão parte da nossa análise. \n",
    "\n",
    "Daremos foco na região e idade de pagadores e recebedores; e nos valores e quantidades de Pix."
   ]
  },
  {
   "cell_type": "code",
   "execution_count": 19,
   "id": "aafe3e01",
   "metadata": {},
   "outputs": [],
   "source": [
    "date_col = ['AnoMes']\n",
    "\n",
    "users_cols = ['PAG_PFPJ', 'REC_PFPJ', 'PAG_REGIAO', 'REC_REGIAO', 'PAG_IDADE', 'REC_IDADE']\n",
    "\n",
    "pix_cols = ['VALOR', 'QUANTIDADE']\n",
    "\n",
    "selected_cols = date_col+users_cols+pix_cols\n",
    "df_pix = df[selected_cols].copy()"
   ]
  },
  {
   "cell_type": "code",
   "execution_count": 21,
   "id": "bbfd8b6b",
   "metadata": {},
   "outputs": [
    {
     "name": "stdout",
     "output_type": "stream",
     "text": [
      "<class 'pandas.core.frame.DataFrame'>\n",
      "RangeIndex: 100 entries, 0 to 99\n",
      "Data columns (total 9 columns):\n",
      " #   Column      Non-Null Count  Dtype  \n",
      "---  ------      --------------  -----  \n",
      " 0   AnoMes      100 non-null    object \n",
      " 1   PAG_PFPJ    100 non-null    object \n",
      " 2   REC_PFPJ    100 non-null    object \n",
      " 3   PAG_REGIAO  100 non-null    object \n",
      " 4   REC_REGIAO  100 non-null    object \n",
      " 5   PAG_IDADE   100 non-null    object \n",
      " 6   REC_IDADE   100 non-null    object \n",
      " 7   VALOR       100 non-null    float64\n",
      " 8   QUANTIDADE  100 non-null    int64  \n",
      "dtypes: float64(1), int64(1), object(7)\n",
      "memory usage: 7.2+ KB\n"
     ]
    }
   ],
   "source": [
    "df_pix.info()"
   ]
  },
  {
   "cell_type": "code",
   "execution_count": 22,
   "id": "bd71815d",
   "metadata": {},
   "outputs": [
    {
     "data": {
      "application/vnd.microsoft.datawrangler.viewer.v0+json": {
       "columns": [
        {
         "name": "index",
         "rawType": "object",
         "type": "string"
        },
        {
         "name": "VALOR",
         "rawType": "float64",
         "type": "float"
        },
        {
         "name": "QUANTIDADE",
         "rawType": "float64",
         "type": "float"
        }
       ],
       "ref": "d9214c6b-ae03-48e8-92f0-e2e4c751bcac",
       "rows": [
        [
         "count",
         "100.0",
         "100.0"
        ],
        [
         "mean",
         "51876078471400.0",
         "378338050.0"
        ],
        [
         "std",
         "199187597475904.78",
         "2026305231.5172784"
        ],
        [
         "min",
         "10000000.0",
         "1000.0"
        ],
        [
         "25%",
         "13022812500.0",
         "65000.0"
        ],
        [
         "50%",
         "178692670000.0",
         "1122000.0"
        ],
        [
         "75%",
         "2130300150000.0",
         "17830500.0"
        ],
        [
         "max",
         "1066167868350000.0",
         "19165982000.0"
        ]
       ],
       "shape": {
        "columns": 2,
        "rows": 8
       }
      },
      "text/html": [
       "<div>\n",
       "<style scoped>\n",
       "    .dataframe tbody tr th:only-of-type {\n",
       "        vertical-align: middle;\n",
       "    }\n",
       "\n",
       "    .dataframe tbody tr th {\n",
       "        vertical-align: top;\n",
       "    }\n",
       "\n",
       "    .dataframe thead th {\n",
       "        text-align: right;\n",
       "    }\n",
       "</style>\n",
       "<table border=\"1\" class=\"dataframe\">\n",
       "  <thead>\n",
       "    <tr style=\"text-align: right;\">\n",
       "      <th></th>\n",
       "      <th>VALOR</th>\n",
       "      <th>QUANTIDADE</th>\n",
       "    </tr>\n",
       "  </thead>\n",
       "  <tbody>\n",
       "    <tr>\n",
       "      <th>count</th>\n",
       "      <td>1.000000e+02</td>\n",
       "      <td>1.000000e+02</td>\n",
       "    </tr>\n",
       "    <tr>\n",
       "      <th>mean</th>\n",
       "      <td>5.187608e+13</td>\n",
       "      <td>3.783380e+08</td>\n",
       "    </tr>\n",
       "    <tr>\n",
       "      <th>std</th>\n",
       "      <td>1.991876e+14</td>\n",
       "      <td>2.026305e+09</td>\n",
       "    </tr>\n",
       "    <tr>\n",
       "      <th>min</th>\n",
       "      <td>1.000000e+07</td>\n",
       "      <td>1.000000e+03</td>\n",
       "    </tr>\n",
       "    <tr>\n",
       "      <th>25%</th>\n",
       "      <td>1.302281e+10</td>\n",
       "      <td>6.500000e+04</td>\n",
       "    </tr>\n",
       "    <tr>\n",
       "      <th>50%</th>\n",
       "      <td>1.786927e+11</td>\n",
       "      <td>1.122000e+06</td>\n",
       "    </tr>\n",
       "    <tr>\n",
       "      <th>75%</th>\n",
       "      <td>2.130300e+12</td>\n",
       "      <td>1.783050e+07</td>\n",
       "    </tr>\n",
       "    <tr>\n",
       "      <th>max</th>\n",
       "      <td>1.066168e+15</td>\n",
       "      <td>1.916598e+10</td>\n",
       "    </tr>\n",
       "  </tbody>\n",
       "</table>\n",
       "</div>"
      ],
      "text/plain": [
       "              VALOR    QUANTIDADE\n",
       "count  1.000000e+02  1.000000e+02\n",
       "mean   5.187608e+13  3.783380e+08\n",
       "std    1.991876e+14  2.026305e+09\n",
       "min    1.000000e+07  1.000000e+03\n",
       "25%    1.302281e+10  6.500000e+04\n",
       "50%    1.786927e+11  1.122000e+06\n",
       "75%    2.130300e+12  1.783050e+07\n",
       "max    1.066168e+15  1.916598e+10"
      ]
     },
     "execution_count": 22,
     "metadata": {},
     "output_type": "execute_result"
    }
   ],
   "source": [
    "df_pix.describe()"
   ]
  },
  {
   "cell_type": "markdown",
   "id": "78c0c25d",
   "metadata": {},
   "source": [
    "## Estudo das Médias"
   ]
  },
  {
   "cell_type": "markdown",
   "id": "7b7fca6d",
   "metadata": {},
   "source": [
    "Existem formas diferentes de encontrar as médias em questão, como por exemplo:"
   ]
  },
  {
   "cell_type": "code",
   "execution_count": null,
   "id": "2d915a53",
   "metadata": {},
   "outputs": [
    {
     "data": {
      "text/plain": [
       "np.float64(137115.67861440318)"
      ]
     },
     "execution_count": 23,
     "metadata": {},
     "output_type": "execute_result"
    }
   ],
   "source": [
    "soma1 = df_pix['VALOR'].sum()\n",
    "soma2 = df_pix['QUANTIDADE'].sum()\n",
    "\n",
    "soma1/soma2"
   ]
  },
  {
   "cell_type": "code",
   "execution_count": 24,
   "id": "5f7fb161",
   "metadata": {},
   "outputs": [
    {
     "data": {
      "text/plain": [
       "np.float64(347569.2381189891)"
      ]
     },
     "execution_count": 24,
     "metadata": {},
     "output_type": "execute_result"
    }
   ],
   "source": [
    "(df_pix['VALOR'] / df_pix['QUANTIDADE']).mean()"
   ]
  },
  {
   "cell_type": "markdown",
   "id": "1c65166b",
   "metadata": {},
   "source": [
    "## Diferença entre Média Ponderada e Média Simples (em um único mês)\n",
    "\n",
    "Mesmo ao considerar apenas um **único mês**, podemos observar uma grande diferença entre as duas abordagens de média:\n",
    "\n",
    "- `soma1 / soma2`:  \n",
    "  $$ \\frac{\\sum \\text{VALOR}}{\\sum \\text{QUANTIDADE}} $$\n",
    "  Representa a **média ponderada** por quantidade de transações — ou seja, cada transação contribui proporcionalmente ao seu volume.\n",
    "\n",
    "- `(df_pix['VALOR'] / df_pix['QUANTIDADE']).mean()`:  \n",
    "  $$ \\frac{1}{n} \\sum_i \\left( \\frac{\\text{VALOR}_i}{\\text{QUANTIDADE}_i} \\right) $$\n",
    "  Representa a **média simples** das razões linha a linha, onde cada linha tem **peso igual**, independentemente do volume da transação.\n",
    "\n",
    "### Por que a diferença é tão grande?\n",
    "\n",
    "Mesmo dentro de um único mês, os dados podem conter:\n",
    "\n",
    "- Linhas com **quantidades muito pequenas** (ex: 1 ou 2), mas **valores altos**, o que resulta em razões muito grandes.  \n",
    "- Linhas com **quantidades altas** (ex: milhares de transações) com valores mais proporcionais, que acabam tendo **pouca influência** na média simples, mas dominam a ponderada.\n",
    "\n",
    "### Exemplo ilustrativo:\n",
    "\n",
    "| VALOR | QUANTIDADE | VALOR/QUANTIDADE |\n",
    "|-------|------------|------------------|\n",
    "| 100   | 1          | 100              |\n",
    "| 2000  | 100        | 20               |\n",
    "\n",
    "- **Média simples**:  \n",
    "  $ \\frac{100 + 20}{2} = 60 $\n",
    "\n",
    "- **Média ponderada**:  \n",
    "  $ \\frac{100 + 2000}{1 + 100} = \\frac{2100}{101} \\approx 20{,}79 $\n",
    "\n",
    "> Portanto, a **média simples pode ser enviesada** por poucas linhas com quantidade muito baixa, enquanto a **média ponderada reflete melhor o comportamento geral do mês**.\n",
    "\n",
    "### Conclusão\n",
    "\n",
    "Use:\n",
    "\n",
    "- **Média ponderada** (`sum(VALOR) / sum(QUANTIDADE)`) → quando o objetivo é obter o valor médio real das transações no período.\n",
    "- **Média simples** (`(VALOR / QUANTIDADE).mean()`) → quando cada linha (e não cada transação) deve ter peso igual, o que nem sempre é desejável.\n",
    "\n"
   ]
  },
  {
   "cell_type": "markdown",
   "id": "75f0e0a2",
   "metadata": {},
   "source": [
    "## Variância e Desvio-padrão"
   ]
  },
  {
   "cell_type": "markdown",
   "id": "bdda8e9c",
   "metadata": {},
   "source": [
    "Pix"
   ]
  },
  {
   "cell_type": "code",
   "execution_count": 25,
   "id": "e73bb7c3",
   "metadata": {},
   "outputs": [
    {
     "name": "stdout",
     "output_type": "stream",
     "text": [
      "Média: 347569.2381189891\n",
      "Variância: 508751010855.09216\n",
      "Desvio Padrão: 713267.8394930562\n"
     ]
    }
   ],
   "source": [
    "pix = df_pix['VALOR'] / df_pix['QUANTIDADE']\n",
    "print (\"Média:\", pix.mean())\n",
    "print (\"Variância:\", pix.var(ddof=0))\n",
    "print (\"Desvio Padrão:\", pix.std(ddof=0))"
   ]
  },
  {
   "cell_type": "markdown",
   "id": "0acb4155",
   "metadata": {},
   "source": [
    "## Interpretação prática\n",
    "\n",
    "### Alta dispersão nos valores\n",
    "\n",
    "O **desvio-padrão** é aproximadamente **R$ 713 mil**, mais que o dobro da média de **R$ 347 mil**, resultando em um **coeficiente de variação de 205%**:\n",
    "\n",
    "$$\n",
    "\\frac{713.267{,}84}{347.569{,}24} \\approx 2{,}05\n",
    "$$\n",
    "\n",
    "Isso indica uma **variação muito acentuada** entre os registros, com algumas transações muito superiores à média puxando a variabilidade para cima.\n",
    "\n",
    "---\n",
    "\n",
    "### Intervalo de confiança típico\n",
    "\n",
    "Supondo uma **distribuição simétrica** (o que é improvável aqui), cerca de **68% dos registros** estariam no intervalo:\n",
    "\n",
    "$$\n",
    "347.569{,}24 \\pm 713.267{,}84 \\Rightarrow [ -365.698{,}6 \\;\\text{até}\\; 1.060.836{,}5 ]\n",
    "$$\n",
    "\n",
    "O fato de o **limite inferior ser negativo** (o que não faz sentido financeiramente) reforça que a distribuição é **assimétrica**, provavelmente com **forte viés positivo** (alguns valores extremamente altos).\n",
    "\n",
    "---\n",
    "\n",
    "### Possíveis causas da alta variabilidade\n",
    "\n",
    "- **Mistura de perfis de usuários**:\n",
    "  - *Pessoas físicas* geralmente realizam Pix de menor valor (transferências pessoais, pagamentos simples).\n",
    "  - *Pessoas jurídicas*, por outro lado, podem fazer grandes transferências comerciais, folha de pagamento, fornecedores etc., com valores muito mais elevados.\n",
    "\n",
    "- **Poucas transações com valores muito altos**:\n",
    "  - Linhas com poucas transações e valores altos geram divisões que resultam em **médias inflacionadas**.\n",
    "\n",
    "- **Presença de outliers e distribuição altamente enviesada**:\n",
    "  - Transações fora do padrão distorcem os indicadores clássicos de tendência central.\n",
    "\n",
    "---\n",
    "\n",
    "### Uso da métrica\n",
    "\n",
    "A **média simples (não ponderada)** é fortemente influenciada por **valores extremos**. Nesse contexto, pode não representar bem a realidade.\n",
    "\n",
    "Para análises mais robustas, é recomendado:\n",
    "\n",
    "- Utilizar **medianas** ou **boxplots** para observar a concentração dos dados;\n",
    "- Aplicar **segmentações por tipo de cliente** (PF/PJ);\n",
    "- Calcular **médias ponderadas**, em que cada transação “conta” igualmente.\n",
    "\n",
    "---\n",
    "\n",
    "## Conclusão\n",
    "\n",
    "A análise das transações via Pix em **janeiro de 2025** mostra que a **presença simultânea de pessoas físicas e jurídicas** no mesmo conjunto de dados gera uma **dispersão extremamente alta** no valor médio por transação.\n",
    "\n",
    "A **média simples** é insuficiente para descrever adequadamente o comportamento do conjunto — sendo essencial considerar a **estrutura heterogênea dos usuários** e utilizar **métricas mais resistentes à influência de outliers** para uma análise mais realista.\n"
   ]
  },
  {
   "cell_type": "markdown",
   "id": "75ddec68",
   "metadata": {},
   "source": [
    "## Visualizações Gráficas"
   ]
  },
  {
   "cell_type": "markdown",
   "id": "3d502de1",
   "metadata": {},
   "source": [
    "Para complementar o processo de análise de dados vamos gerar alguns gráficos, para isso usaremos a biblioteca 'matplotlib'."
   ]
  },
  {
   "cell_type": "markdown",
   "id": "6be587cb",
   "metadata": {},
   "source": [
    "**Histograma**\n",
    "Mostra a distribuição de frequências de uma variável numérica dividida em “bins” (intervalos). Cada barra indica quantos valores caem em cada faixa. Use quando quiser entender a forma geral dos dados (simetria, sesgo, picôs múltiplos) e identificar aglomerados ou lacunas."
   ]
  },
  {
   "cell_type": "markdown",
   "id": "3f6864b7",
   "metadata": {},
   "source": [
    "### Comparação de Ticket Médio entre Pessoa Física e Pessoa Jurídica\n"
   ]
  },
  {
   "cell_type": "code",
   "execution_count": 31,
   "id": "f5cb94f3",
   "metadata": {},
   "outputs": [
    {
     "data": {
      "image/png": "[encoded data removed]",
      "text/plain": [
       "<Figure size 600x400 with 1 Axes>"
      ]
     },
     "metadata": {},
     "output_type": "display_data"
    }
   ],
   "source": [
    "import matplotlib.pyplot as plt\n",
    "import numpy as np\n",
    "\n",
    "# Calcular ticket médio\n",
    "df_pix['TICKET_MEDIO'] = df_pix['VALOR'] / df_pix['QUANTIDADE']\n",
    "\n",
    "pag_pf_pj = df_pix.groupby('PAG_PFPJ')['TICKET_MEDIO'].mean()\n",
    "rec_pf_pj = df_pix.groupby('REC_PFPJ')['TICKET_MEDIO'].mean()\n",
    "\n",
    "x = np.arange(len(pag_pf_pj.index))\n",
    "width = 0.35\n",
    "\n",
    "fig, ax = plt.subplots(figsize=(6,4))\n",
    "ax.bar(x - width/2, pag_pf_pj.values, width, label='Pagadores')\n",
    "ax.bar(x + width/2, rec_pf_pj.values, width, label='Recebedores')\n",
    "ax.set_xticks(x)\n",
    "ax.set_xticklabels(pag_pf_pj.index)\n",
    "ax.set_ylabel('Ticket Médio (R$)')\n",
    "ax.set_title('Ticket Médio - PF vs PJ')\n",
    "ax.legend()\n",
    "plt.grid(axis='y', linestyle='--')\n",
    "plt.tight_layout()\n",
    "plt.show()\n"
   ]
  },
  {
   "cell_type": "markdown",
   "id": "7bd238b1",
   "metadata": {},
   "source": [
    "**Interpretação**: Pessoas Jurídicas (PJ) costumam apresentar tickets médios mais altos, o que pode estar ligado a atividades comerciais. Já as Pessoas Físicas (PF) tendem a realizar transferências menores e pessoais.\n"
   ]
  },
  {
   "cell_type": "markdown",
   "id": "8fce7d8c",
   "metadata": {},
   "source": [
    "### Comparação de Ticket Médio por Região\n"
   ]
  },
  {
   "cell_type": "code",
   "execution_count": 32,
   "id": "11f8b2f6",
   "metadata": {},
   "outputs": [
    {
     "data": {
      "image/png": "[encoded data removed]",
      "text/plain": [
       "<Figure size 1000x500 with 1 Axes>"
      ]
     },
     "metadata": {},
     "output_type": "display_data"
    }
   ],
   "source": [
    "pag_reg = df_pix.groupby('PAG_REGIAO')['TICKET_MEDIO'].mean()\n",
    "rec_reg = df_pix.groupby('REC_REGIAO')['TICKET_MEDIO'].mean()\n",
    "\n",
    "x = np.arange(len(pag_reg.index))\n",
    "width = 0.35\n",
    "\n",
    "fig, ax = plt.subplots(figsize=(10,5))\n",
    "ax.bar(x - width/2, pag_reg.values, width, label='Pagadores')\n",
    "ax.bar(x + width/2, rec_reg.values, width, label='Recebedores')\n",
    "ax.set_xticks(x)\n",
    "ax.set_xticklabels(pag_reg.index, rotation=45)\n",
    "ax.set_ylabel('Ticket Médio (R$)')\n",
    "ax.set_title('Ticket Médio por Região')\n",
    "ax.legend()\n",
    "plt.grid(axis='y', linestyle='--')\n",
    "plt.tight_layout()\n",
    "plt.show()"
   ]
  },
  {
   "cell_type": "markdown",
   "id": "7fea36a6",
   "metadata": {},
   "source": [
    "**Interpretação**: Identifica regiões com maior poder de compra ou concentração de empresas. Diferenças grandes podem indicar polos comerciais ou variações de perfil dos usuários regionais, como é o caso da região sudeste.\n"
   ]
  },
  {
   "cell_type": "markdown",
   "id": "1495310b",
   "metadata": {},
   "source": [
    "### Comparação de Ticket Médio por Faixa Etária\n"
   ]
  },
  {
   "cell_type": "code",
   "execution_count": 33,
   "id": "c3c0be5c",
   "metadata": {},
   "outputs": [
    {
     "data": {
      "image/png": "[encoded data removed]",
      "text/plain": [
       "<Figure size 1000x500 with 1 Axes>"
      ]
     },
     "metadata": {},
     "output_type": "display_data"
    }
   ],
   "source": [
    "pag_idade = df_pix.groupby('PAG_IDADE')['TICKET_MEDIO'].mean()\n",
    "rec_idade = df_pix.groupby('REC_IDADE')['TICKET_MEDIO'].mean()\n",
    "\n",
    "x = np.arange(len(pag_idade.index))\n",
    "width = 0.35\n",
    "\n",
    "fig, ax = plt.subplots(figsize=(10,5))\n",
    "ax.bar(x - width/2, pag_idade.values, width, label='Pagadores')\n",
    "ax.bar(x + width/2, rec_idade.values, width, label='Recebedores')\n",
    "ax.set_xticks(x)\n",
    "ax.set_xticklabels(pag_idade.index, rotation=45)\n",
    "ax.set_ylabel('Ticket Médio (R$)')\n",
    "ax.set_title('Ticket Médio por Faixa Etária')\n",
    "ax.legend()\n",
    "plt.grid(axis='y', linestyle='--')\n",
    "plt.tight_layout()\n",
    "plt.show()\n"
   ]
  },
  {
   "cell_type": "markdown",
   "id": "4c5fa118",
   "metadata": {},
   "source": [
    "**Interpretação**: Faixas etárias mais jovens tendem a realizar transações menores, enquanto faixas intermediárias (30–60 anos) geralmente concentram os maiores valores, possivelmente por razões profissionais ou familiares.\n"
   ]
  },
  {
   "cell_type": "markdown",
   "id": "116d3b00",
   "metadata": {},
   "source": [
    "### Boxplot do Ticket Médio Geral\n"
   ]
  },
  {
   "cell_type": "code",
   "execution_count": 34,
   "id": "67759a90",
   "metadata": {},
   "outputs": [
    {
     "data": {
      "image/png": "[encoded data removed]",
      "text/plain": [
       "<Figure size 600x400 with 1 Axes>"
      ]
     },
     "metadata": {},
     "output_type": "display_data"
    }
   ],
   "source": [
    "plt.figure(figsize=(6,4))\n",
    "plt.boxplot(df_pix['TICKET_MEDIO'], patch_artist=True, boxprops=dict(facecolor='lightblue'))\n",
    "plt.title('Distribuição do Ticket Médio')\n",
    "plt.ylabel('Ticket Médio (R$)')\n",
    "plt.grid(True, axis='y', linestyle='--')\n",
    "plt.tight_layout()\n",
    "plt.show()\n"
   ]
  },
  {
   "cell_type": "markdown",
   "id": "36c4fa30",
   "metadata": {},
   "source": [
    "**Interpretação**: O boxplot mostra a dispersão dos tickets médios e a presença de outliers. Uma cauda longa superior pode indicar usuários com valores muito acima do típico.\n"
   ]
  }
 ],
 "metadata": {
  "kernelspec": {
   "display_name": ".venv",
   "language": "python",
   "name": "python3"
  },
  "language_info": {
   "codemirror_mode": {
    "name": "ipython",
    "version": 3
   },
   "file_extension": ".py",
   "mimetype": "text/x-python",
   "name": "python",
   "nbconvert_exporter": "python",
   "pygments_lexer": "ipython3",
   "version": "3.12.10"
  }
 },
 "nbformat": 4,
 "nbformat_minor": 5
}
