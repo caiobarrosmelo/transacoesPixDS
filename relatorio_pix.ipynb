{
 "cells": [
  {
   "cell_type": "markdown",
   "id": "b0a07642",
   "metadata": {},
   "source": [
    "## Estatísticas de Transações Pix\n",
    "\n",
    "Estudo sobre as estatísticas de transações Pix da API do Banco Central (BCB) acerca do volume financeiro e da quantidade de transações Pix liquidadas mensalmente, incluindo informações sobre o Sistema de Pagamentos Instantâneos (SPI) e transações fora do SPI.\n",
    "\n",
    "Instrumento de periodicidade **mensal**, com atualização disponibilizada pelo Banco Central do Brasil.\n",
    "\n",
    "Inclui:\n",
    "\n",
    "- Quantidade e valor financeiro de transações Pix liquidadas no SPI.\n",
    "- Recortes por tipo de pessoa (PF/PJ), região, idade, forma de iniciação, natureza e finalidade da transação.\n",
    "\n",
    "### Parâmetros da API\n",
    "\n",
    "| Nome       | Tipo    | Título     | Descrição |\n",
    "|------------|---------|------------|-----------|\n",
    "| Database   | texto   | Data-base  | Data-base de referência no formato AAAAMM |\n",
    "| $format    | texto   | $format    | Tipo de conteúdo que será retornado |\n",
    "| $select    | texto   | $select    | Propriedades que serão retornadas |\n",
    "| $filter    | texto   | $filter    | Filtro de seleção de entidades. e.g. Nome eq 'João'. [Clique aqui](https://olinda.bcb.gov.br/olinda/servico/ajuda) para ver as opções de operadores e funções. |\n",
    "| $orderby   | texto   | $orderby   | Propriedades para ordenação das entidades. e.g. Nome asc, Idade desc |\n",
    "| $skip      | inteiro | $skip      | Índice (maior ou igual a zero) da primeira entidade que será retornada |\n",
    "| $top       | inteiro | $top       | Número máximo (maior que zero) de entidades que serão retornadas |\n",
    "\n",
    "---\n",
    "\n",
    "### Dicionário de Dados\n",
    "\n",
    "| Nome         | Tipo    | Título                             | Descrição |\n",
    "|--------------|---------|------------------------------------|-----------|\n",
    "| AnoMes       | inteiro | Data-base - ano/mês                | Data-base de referência no formato AAAAMM |\n",
    "| PAG_PFPJ     | texto   | Tipo de Pessoa do Pagador          | PF = Pessoa Física, PJ = Pessoa Jurídica |\n",
    "| REC_PFPJ     | texto   | Tipo de Pessoa do Recebedor        | PF = Pessoa Física, PJ = Pessoa Jurídica |\n",
    "| PAG_REGIAO   | texto   | Região do Pagador                  | Região do domicílio do pagador |\n",
    "| REC_REGIAO   | texto   | Região do Recebedor                | Região do domicílio do recebedor |\n",
    "| PAG_IDADE    | texto   | Idade do Pagador                   | Faixa etária do usuário pagador |\n",
    "| REC_IDADE    | texto   | Idade do Recebedor                 | Faixa etária do usuário recebedor |\n",
    "| FORMAINICIACAO | texto | Forma de Iniciação da Transação    | INIC = Iniciador com dados do recebedor, QRES = QR Code Estático, QRDN = QR Code Dinâmico, MANU = Inserção manual, DICT = Chave Pix |\n",
    "| NATUREZA     | texto   | Natureza da Transação              | P2P = Pessoa para Pessoa, B2B = Empresa para Empresa, P2B = Pessoa para Empresa, B2P = Empresa para Pessoa, P2G = Pessoa para Governo, B2G = Empresa para Governo |\n",
    "| FINALIDADE   | texto   | Finalidade da Transação            | Transferência, saque ou troco |\n",
    "| VALOR        | decimal | Valor das Transações Pix           | Volume financeiro (R$ milhões) de transações Pix liquidadas mensalmente |\n",
    "| QUANTIDADE   | decimal | Quantidade Total de Transações Pix | Quantidade (milhares) de transações Pix liquidadas mensalmente |\n",
    "\n",
    "---\n",
    "\n",
    "**Fontes:** \n",
    "- [BCB - Transação Pix](https://dadosabertos.bcb.gov.br/dataset/pix/resource/9eb0f16d-4a38-4936-be2a-6c0dd18f87f7?inner_span=True)\n",
    "- [BCB - Estatísticas Pix](https://dadosabertos.bcb.gov.br/dataset/pix)\n"
   ]
  },
  {
   "cell_type": "code",
   "execution_count": null,
   "id": "d15b0d33",
   "metadata": {},
   "outputs": [
    {
     "ename": "",
     "evalue": "",
     "output_type": "error",
     "traceback": [
      "\u001b[1;31mRunning cells with '.venv (Python 3.12.10)' requires the ipykernel package.\n",
      "\u001b[1;31mInstall 'ipykernel' into the Python environment. \n",
      "\u001b[1;31mCommand: '\"c:/Users/caiob/Documents/Caio/SENAC/TADS038 1T - 3º Período/Data Science - Principios e técnicas - Marco/transacoesPixDS/.venv/Scripts/python.exe\" -m pip install ipykernel -U --force-reinstall'"
     ]
    }
   ],
   "source": [
    "import pandas as pd\n",
    "import sqlite3\n",
    "\n",
    "con = sqlite3.connect('src/datasets/dadosPix.db')\n",
    "query = \"select * from transacoes_pix\"\n",
    "df = pd.read_sql(query, con)\n",
    "con.close()"
   ]
  }
 ],
 "metadata": {
  "kernelspec": {
   "display_name": ".venv",
   "language": "python",
   "name": "python3"
  },
  "language_info": {
   "name": "python",
   "version": "3.12.10"
  }
 },
 "nbformat": 4,
 "nbformat_minor": 5
}
