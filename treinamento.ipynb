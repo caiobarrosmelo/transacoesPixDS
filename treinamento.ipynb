{
 "cells": [
  {
   "cell_type": "code",
   "execution_count": 2,
   "id": "e9dc61d3",
   "metadata": {},
   "outputs": [],
   "source": [
    "import pandas as pd\n",
    "import numpy as np\n",
    "import matplotlib.pyplot as plt\n",
    "import seaborn as sns\n",
    "\n",
    "from sklearn.ensemble import RandomForestRegressor\n",
    "from sklearn.model_selection import train_test_split\n",
    "from sklearn.metrics import mean_squared_error\n",
    "\n",
    "df = pd.read_csv('src/datasets/transacaoPIXmod.csv', sep=';', decimal=',')"
   ]
  },
  {
   "cell_type": "markdown",
   "id": "6abb6750",
   "metadata": {},
   "source": [
    "Correção de ponto e vírgula nos campos de valor:"
   ]
  },
  {
   "cell_type": "code",
   "execution_count": 3,
   "id": "d5fb3eef",
   "metadata": {},
   "outputs": [],
   "source": [
    "for col in df.columns:\n",
    "    if col.startswith('valor'):\n",
    "        df[col] = df[col].astype(str).str.replace('.', '', regex=False).str.replace(',', '.', regex=False)\n",
    "        df[col] = df[col].astype(float)"
   ]
  },
  {
   "cell_type": "markdown",
   "id": "c09b6828",
   "metadata": {},
   "source": []
  },
  {
   "cell_type": "code",
   "execution_count": 4,
   "id": "4de73b2d",
   "metadata": {},
   "outputs": [
    {
     "data": {
      "application/vnd.microsoft.datawrangler.viewer.v0+json": {
       "columns": [
        {
         "name": "index",
         "rawType": "int64",
         "type": "integer"
        },
        {
         "name": "Unnamed: 0",
         "rawType": "int64",
         "type": "integer"
        },
        {
         "name": "AnoMes",
         "rawType": "object",
         "type": "string"
        },
        {
         "name": "PAG_PFPJ",
         "rawType": "object",
         "type": "string"
        },
        {
         "name": "REC_PFPJ",
         "rawType": "object",
         "type": "string"
        },
        {
         "name": "PAG_REGIAO",
         "rawType": "object",
         "type": "string"
        },
        {
         "name": "REC_REGIAO",
         "rawType": "object",
         "type": "string"
        },
        {
         "name": "PAG_IDADE",
         "rawType": "object",
         "type": "string"
        },
        {
         "name": "REC_IDADE",
         "rawType": "object",
         "type": "string"
        },
        {
         "name": "FORMAINICIACAO",
         "rawType": "object",
         "type": "string"
        },
        {
         "name": "NATUREZA",
         "rawType": "object",
         "type": "string"
        },
        {
         "name": "FINALIDADE",
         "rawType": "object",
         "type": "string"
        },
        {
         "name": "VALOR",
         "rawType": "float64",
         "type": "float"
        },
        {
         "name": "QUANTIDADE",
         "rawType": "int64",
         "type": "integer"
        }
       ],
       "ref": "61003beb-1cf9-419d-8182-5efa2511f1fc",
       "rows": [
        [
         "0",
         "0",
         "2025-01-01 00:00:00",
         "PF",
         "PF",
         "CENTRO-OESTE",
         "SUDESTE",
         "entre 30 e 39 anos",
         "entre 50 e 59 anos",
         "QRES",
         "P2P",
         "Pix",
         "1765603500000.0",
         "30585000"
        ],
        [
         "1",
         "1",
         "2025-01-01 00:00:00",
         "PF",
         "PF",
         "Nao informado",
         "Nao informado",
         "até 19 anos",
         "entre 30 e 39 anos",
         "MANU",
         "P2P",
         "Pix",
         "32682420000.0",
         "388000"
        ],
        [
         "2",
         "2",
         "2025-01-01 00:00:00",
         "PF",
         "PF",
         "SUDESTE",
         "SUL",
         "entre 50 e 59 anos",
         "entre 40 e 49 anos",
         "MANU",
         "P2P",
         "Pix",
         "10970832960000.0",
         "25569000"
        ],
        [
         "3",
         "3",
         "2025-01-01 00:00:00",
         "PJ",
         "PF",
         "Nao informado",
         "SUDESTE",
         "Nao se aplica",
         "até 19 anos",
         "QRES",
         "B2P",
         "Pix",
         "75786770000.0",
         "991000"
        ],
        [
         "4",
         "4",
         "2025-01-01 00:00:00",
         "PF",
         "PF",
         "NORDESTE",
         "SUDESTE",
         "Nao informado",
         "entre 40 e 49 anos",
         "MANU",
         "P2P",
         "Pix",
         "491500000.0",
         "6000"
        ]
       ],
       "shape": {
        "columns": 13,
        "rows": 5
       }
      },
      "text/html": [
       "<div>\n",
       "<style scoped>\n",
       "    .dataframe tbody tr th:only-of-type {\n",
       "        vertical-align: middle;\n",
       "    }\n",
       "\n",
       "    .dataframe tbody tr th {\n",
       "        vertical-align: top;\n",
       "    }\n",
       "\n",
       "    .dataframe thead th {\n",
       "        text-align: right;\n",
       "    }\n",
       "</style>\n",
       "<table border=\"1\" class=\"dataframe\">\n",
       "  <thead>\n",
       "    <tr style=\"text-align: right;\">\n",
       "      <th></th>\n",
       "      <th>Unnamed: 0</th>\n",
       "      <th>AnoMes</th>\n",
       "      <th>PAG_PFPJ</th>\n",
       "      <th>REC_PFPJ</th>\n",
       "      <th>PAG_REGIAO</th>\n",
       "      <th>REC_REGIAO</th>\n",
       "      <th>PAG_IDADE</th>\n",
       "      <th>REC_IDADE</th>\n",
       "      <th>FORMAINICIACAO</th>\n",
       "      <th>NATUREZA</th>\n",
       "      <th>FINALIDADE</th>\n",
       "      <th>VALOR</th>\n",
       "      <th>QUANTIDADE</th>\n",
       "    </tr>\n",
       "  </thead>\n",
       "  <tbody>\n",
       "    <tr>\n",
       "      <th>0</th>\n",
       "      <td>0</td>\n",
       "      <td>2025-01-01 00:00:00</td>\n",
       "      <td>PF</td>\n",
       "      <td>PF</td>\n",
       "      <td>CENTRO-OESTE</td>\n",
       "      <td>SUDESTE</td>\n",
       "      <td>entre 30 e 39 anos</td>\n",
       "      <td>entre 50 e 59 anos</td>\n",
       "      <td>QRES</td>\n",
       "      <td>P2P</td>\n",
       "      <td>Pix</td>\n",
       "      <td>1.765604e+12</td>\n",
       "      <td>30585000</td>\n",
       "    </tr>\n",
       "    <tr>\n",
       "      <th>1</th>\n",
       "      <td>1</td>\n",
       "      <td>2025-01-01 00:00:00</td>\n",
       "      <td>PF</td>\n",
       "      <td>PF</td>\n",
       "      <td>Nao informado</td>\n",
       "      <td>Nao informado</td>\n",
       "      <td>até 19 anos</td>\n",
       "      <td>entre 30 e 39 anos</td>\n",
       "      <td>MANU</td>\n",
       "      <td>P2P</td>\n",
       "      <td>Pix</td>\n",
       "      <td>3.268242e+10</td>\n",
       "      <td>388000</td>\n",
       "    </tr>\n",
       "    <tr>\n",
       "      <th>2</th>\n",
       "      <td>2</td>\n",
       "      <td>2025-01-01 00:00:00</td>\n",
       "      <td>PF</td>\n",
       "      <td>PF</td>\n",
       "      <td>SUDESTE</td>\n",
       "      <td>SUL</td>\n",
       "      <td>entre 50 e 59 anos</td>\n",
       "      <td>entre 40 e 49 anos</td>\n",
       "      <td>MANU</td>\n",
       "      <td>P2P</td>\n",
       "      <td>Pix</td>\n",
       "      <td>1.097083e+13</td>\n",
       "      <td>25569000</td>\n",
       "    </tr>\n",
       "    <tr>\n",
       "      <th>3</th>\n",
       "      <td>3</td>\n",
       "      <td>2025-01-01 00:00:00</td>\n",
       "      <td>PJ</td>\n",
       "      <td>PF</td>\n",
       "      <td>Nao informado</td>\n",
       "      <td>SUDESTE</td>\n",
       "      <td>Nao se aplica</td>\n",
       "      <td>até 19 anos</td>\n",
       "      <td>QRES</td>\n",
       "      <td>B2P</td>\n",
       "      <td>Pix</td>\n",
       "      <td>7.578677e+10</td>\n",
       "      <td>991000</td>\n",
       "    </tr>\n",
       "    <tr>\n",
       "      <th>4</th>\n",
       "      <td>4</td>\n",
       "      <td>2025-01-01 00:00:00</td>\n",
       "      <td>PF</td>\n",
       "      <td>PF</td>\n",
       "      <td>NORDESTE</td>\n",
       "      <td>SUDESTE</td>\n",
       "      <td>Nao informado</td>\n",
       "      <td>entre 40 e 49 anos</td>\n",
       "      <td>MANU</td>\n",
       "      <td>P2P</td>\n",
       "      <td>Pix</td>\n",
       "      <td>4.915000e+08</td>\n",
       "      <td>6000</td>\n",
       "    </tr>\n",
       "  </tbody>\n",
       "</table>\n",
       "</div>"
      ],
      "text/plain": [
       "   Unnamed: 0               AnoMes PAG_PFPJ REC_PFPJ     PAG_REGIAO  \\\n",
       "0           0  2025-01-01 00:00:00       PF       PF   CENTRO-OESTE   \n",
       "1           1  2025-01-01 00:00:00       PF       PF  Nao informado   \n",
       "2           2  2025-01-01 00:00:00       PF       PF        SUDESTE   \n",
       "3           3  2025-01-01 00:00:00       PJ       PF  Nao informado   \n",
       "4           4  2025-01-01 00:00:00       PF       PF       NORDESTE   \n",
       "\n",
       "      REC_REGIAO           PAG_IDADE           REC_IDADE FORMAINICIACAO  \\\n",
       "0        SUDESTE  entre 30 e 39 anos  entre 50 e 59 anos           QRES   \n",
       "1  Nao informado         até 19 anos  entre 30 e 39 anos           MANU   \n",
       "2            SUL  entre 50 e 59 anos  entre 40 e 49 anos           MANU   \n",
       "3        SUDESTE       Nao se aplica         até 19 anos           QRES   \n",
       "4        SUDESTE       Nao informado  entre 40 e 49 anos           MANU   \n",
       "\n",
       "  NATUREZA FINALIDADE         VALOR  QUANTIDADE  \n",
       "0      P2P        Pix  1.765604e+12    30585000  \n",
       "1      P2P        Pix  3.268242e+10      388000  \n",
       "2      P2P        Pix  1.097083e+13    25569000  \n",
       "3      B2P        Pix  7.578677e+10      991000  \n",
       "4      P2P        Pix  4.915000e+08        6000  "
      ]
     },
     "execution_count": 4,
     "metadata": {},
     "output_type": "execute_result"
    }
   ],
   "source": [
    "df.head()"
   ]
  },
  {
   "cell_type": "code",
   "execution_count": 11,
   "id": "328baae0",
   "metadata": {},
   "outputs": [],
   "source": [
    "users_cols = ['PAG_PFPJ', 'REC_PFPJ', 'PAG_REGIAO', 'REC_REGIAO', 'PAG_IDADE', 'REC_IDADE']\n",
    "\n",
    "pix_cols = ['NATUREZA','VALOR', 'QUANTIDADE']\n",
    "\n",
    "selected_cols = users_cols+pix_cols\n",
    "df_pix = df[selected_cols].copy()"
   ]
  },
  {
   "cell_type": "markdown",
   "id": "e1578a03",
   "metadata": {},
   "source": [
    "## 2. Definição das variáveis explicativas (X = características) e da variável resposta (Y = rótulo)"
   ]
  },
  {
   "cell_type": "code",
   "execution_count": 12,
   "id": "5592a829",
   "metadata": {},
   "outputs": [],
   "source": [
    "X = df_pix.drop('PAG_PFPJ', axis=1)\n",
    "y = df_pix['PAG_PFPJ'] # Variável dependente"
   ]
  },
  {
   "cell_type": "markdown",
   "id": "02192b5a",
   "metadata": {},
   "source": [
    "### 3. Separação da base de dados em *Dados de Treino* e *Dados de Teste*"
   ]
  },
  {
   "cell_type": "code",
   "execution_count": 13,
   "id": "2a7f3cb3",
   "metadata": {},
   "outputs": [],
   "source": [
    "# Importação do Método para separação dos dados entre treino e teste\n",
    "from sklearn.model_selection import train_test_split"
   ]
  },
  {
   "cell_type": "code",
   "execution_count": 14,
   "id": "aba0604b",
   "metadata": {},
   "outputs": [],
   "source": [
    "# Definição de 20% dos dados para teste e 80% para treino\n",
    "X_train, X_test, y_train, y_test = train_test_split(X, y, test_size=0.2, random_state=42)"
   ]
  },
  {
   "cell_type": "code",
   "execution_count": 15,
   "id": "dcd30b4e",
   "metadata": {},
   "outputs": [
    {
     "name": "stdout",
     "output_type": "stream",
     "text": [
      "(8000, 8)\n",
      "(2000, 8)\n",
      "(8000,)\n",
      "(2000,)\n"
     ]
    }
   ],
   "source": [
    "print(X_train.shape)\n",
    "print(X_test.shape) \n",
    "print(y_train.shape)\n",
    "print(y_test.shape)"
   ]
  },
  {
   "cell_type": "markdown",
   "id": "0875b4cf",
   "metadata": {},
   "source": [
    "## 4. Construção de um Modelo de Classificação"
   ]
  },
  {
   "cell_type": "code",
   "execution_count": 16,
   "id": "5e93ac5b",
   "metadata": {},
   "outputs": [],
   "source": [
    "from sklearn.ensemble import RandomForestClassifier # 1ª técnica de Machine Learning\n",
    "from sklearn.svm import SVC                         # 2ª técnica de Machine Learning\n",
    "from sklearn.linear_model import LogisticRegression # 3ª técnica de Machine Learning\n",
    "from sklearn.neighbors import KNeighborsClassifier  # 4ª técnica de Machine Learning\n",
    "from sklearn.naive_bayes import GaussianNB          # 5ª técnica de Machine Learning\n",
    "\n",
    "# Instanciação dos modelos\n",
    "modelo_1 = RandomForestClassifier(n_estimators=500, random_state=42)\n",
    "modelo_2 = SVC(kernel='linear', random_state=42)\n",
    "modelo_3 = LogisticRegression(max_iter=1000, random_state=42)\n",
    "modelo_4 = KNeighborsClassifier(n_neighbors=5)\n",
    "modelo_5 = GaussianNB()"
   ]
  },
  {
   "cell_type": "code",
   "execution_count": 18,
   "id": "3c42cb17",
   "metadata": {},
   "outputs": [],
   "source": [
    "import pandas as pd\n",
    "\n",
    "X_train = pd.get_dummies(X_train)\n",
    "X_test = pd.get_dummies(X_test)\n",
    "\n",
    "# Para garantir que as colunas estejam alinhadas (algumas categorias podem faltar em X_test)\n",
    "X_test = X_test.reindex(columns=X_train.columns, fill_value=0)\n"
   ]
  },
  {
   "cell_type": "code",
   "execution_count": null,
   "id": "b02d9c2d",
   "metadata": {},
   "outputs": [],
   "source": [
    "# Treinamento dos modelos com a base de treino\n",
    "\n",
    "modelo_1.fit(X_train, y_train)\n",
    "modelo_2.fit(X_train, y_train)\n",
    "modelo_3.fit(X_train, y_train)\n",
    "modelo_4.fit(X_train, y_train)\n",
    "modelo_5.fit(X_train, y_train)"
   ]
  },
  {
   "cell_type": "code",
   "execution_count": null,
   "id": "85cc7ea7",
   "metadata": {},
   "outputs": [],
   "source": [
    "# Efetuando predições na base de teste\n",
    "\n",
    "y_pred_1 = modelo_1.predict(X_test) # Predição do modelo 1\n",
    "y_pred_2 = modelo_2.predict(X_test) # Predição do modelo 2\n",
    "y_pred_3 = modelo_3.predict(X_test) # Predição do modelo 3\n",
    "y_pred_4 = modelo_4.predict(X_test) # Predição do modelo 4\n",
    "y_pred_5 = modelo_5.predict(X_test) # Predição do modelo 5"
   ]
  },
  {
   "cell_type": "code",
   "execution_count": null,
   "id": "c48269e0",
   "metadata": {},
   "outputs": [],
   "source": [
    "y_pred_1"
   ]
  },
  {
   "cell_type": "markdown",
   "id": "aec4a526",
   "metadata": {},
   "source": [
    "## 5. Avaliação dos modelos"
   ]
  },
  {
   "cell_type": "code",
   "execution_count": null,
   "id": "bcc5cee0",
   "metadata": {},
   "outputs": [],
   "source": [
    "# Efetuando a importação do método da Acurácia (Taxa de acerto)\n",
    "from sklearn.metrics import accuracy_score"
   ]
  },
  {
   "cell_type": "code",
   "execution_count": null,
   "id": "a685975f",
   "metadata": {},
   "outputs": [],
   "source": [
    "# Avaliação do desempenho (taxa de acerto)\n",
    "\n",
    "acuracia_1 = accuracy_score(y_test, y_pred_1)\n",
    "acuracia_2 = accuracy_score(y_test, y_pred_2)\n",
    "acuracia_3 = accuracy_score(y_test, y_pred_3)\n",
    "acuracia_4 = accuracy_score(y_test, y_pred_4)\n",
    "acuracia_5 = accuracy_score(y_test, y_pred_5)\n",
    "\n",
    "# Impressão dos resultados\n",
    "\n",
    "print(f'Acurácia do modelo 1: {acuracia_1 * 100:.2f}%')\n",
    "print(f'Acurácia do modelo 2: {acuracia_2 * 100:.2f}%')\n",
    "print(f'Acurácia do modelo 3: {acuracia_3 * 100:.2f}%')\n",
    "print(f'Acurácia do modelo 4: {acuracia_4 * 100:.2f}%')\n",
    "print(f'Acurácia do modelo 5: {acuracia_5 * 100:.2f}%')"
   ]
  },
  {
   "cell_type": "markdown",
   "id": "bc191e19",
   "metadata": {},
   "source": [
    "### Verificação da estabilidade"
   ]
  },
  {
   "cell_type": "markdown",
   "id": "9a6e7c75",
   "metadata": {},
   "source": [
    "Agora será realizada uma análise de desempenho a partir de várias execuções dos modelos para verificar estabilidade:"
   ]
  },
  {
   "cell_type": "code",
   "execution_count": null,
   "id": "66f20c8a",
   "metadata": {},
   "outputs": [],
   "source": [
    "acuracia_modelo1 = []\n",
    "acuracia_modelo2 = []\n",
    "acuracia_modelo3 = []\n",
    "acuracia_modelo4 = []\n",
    "acuracia_modelo5 = []\n",
    "\n",
    "for i in range(30):\n",
    "    X_train, X_test, y_train, y_test = train_test_split(X, y, test_size=0.2)\n",
    "\n",
    "    modelo_1 = RandomForestClassifier(n_estimators=500, random_state=42)\n",
    "    modelo_2 = SVC(kernel='linear', random_state=42)\n",
    "    modelo_3 = LogisticRegression(max_iter=1000, random_state=42)\n",
    "    modelo_4 = KNeighborsClassifier(n_neighbors=5)\n",
    "    modelo_5 = GaussianNB()\n",
    "\n",
    "    modelo_1.fit(X_train, y_train)\n",
    "    modelo_2.fit(X_train, y_train)\n",
    "    modelo_3.fit(X_train, y_train)\n",
    "    modelo_4.fit(X_train, y_train)\n",
    "    modelo_5.fit(X_train, y_train)\n",
    "\n",
    "    y_pred_1 = modelo_1.predict(X_test)\n",
    "    y_pred_2 = modelo_2.predict(X_test)\n",
    "    y_pred_3 = modelo_3.predict(X_test)\n",
    "    y_pred_4 = modelo_4.predict(X_test)\n",
    "    y_pred_5 = modelo_5.predict(X_test)\n",
    "\n",
    "    acuracia_1 = accuracy_score(y_test, y_pred_1)\n",
    "    acuracia_2 = accuracy_score(y_test, y_pred_2)\n",
    "    acuracia_3 = accuracy_score(y_test, y_pred_3)\n",
    "    acuracia_4 = accuracy_score(y_test, y_pred_4)\n",
    "    acuracia_5 = accuracy_score(y_test, y_pred_5)\n",
    "\n",
    "    acuracia_modelo1.append(acuracia_1)\n",
    "    acuracia_modelo2.append(acuracia_2)\n",
    "    acuracia_modelo3.append(acuracia_3)\n",
    "    acuracia_modelo4.append(acuracia_4)\n",
    "    acuracia_modelo5.append(acuracia_5)"
   ]
  },
  {
   "cell_type": "code",
   "execution_count": null,
   "id": "846b4973",
   "metadata": {},
   "outputs": [],
   "source": [
    "print(np.mean(acuracia_modelo1))\n",
    "print(np.mean(acuracia_modelo2))\n",
    "print(np.mean(acuracia_modelo3))\n",
    "print(np.mean(acuracia_modelo4))\n",
    "print(np.mean(acuracia_modelo5))"
   ]
  },
  {
   "cell_type": "code",
   "execution_count": null,
   "id": "f34ad4b2",
   "metadata": {},
   "outputs": [],
   "source": [
    "print(np.std(acuracia_modelo1))\n",
    "print(np.std(acuracia_modelo2))\n",
    "print(np.std(acuracia_modelo3))\n",
    "print(np.std(acuracia_modelo4))\n",
    "print(np.std(acuracia_modelo5))"
   ]
  },
  {
   "cell_type": "markdown",
   "id": "45f3c162",
   "metadata": {},
   "source": [
    "## 6. Análise das Taxas de Acurácia e Estabilidade dos Modelos"
   ]
  }
 ],
 "metadata": {
  "kernelspec": {
   "display_name": ".venv",
   "language": "python",
   "name": "python3"
  },
  "language_info": {
   "codemirror_mode": {
    "name": "ipython",
    "version": 3
   },
   "file_extension": ".py",
   "mimetype": "text/x-python",
   "name": "python",
   "nbconvert_exporter": "python",
   "pygments_lexer": "ipython3",
   "version": "3.12.10"
  }
 },
 "nbformat": 4,
 "nbformat_minor": 5
}
